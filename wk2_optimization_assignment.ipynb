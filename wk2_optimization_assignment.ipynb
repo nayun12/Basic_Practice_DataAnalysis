{
  "cells": [
    {
      "cell_type": "markdown",
      "metadata": {
        "id": "view-in-github",
        "colab_type": "text"
      },
      "source": [
        "<a href=\"https://colab.research.google.com/github/nayun12/Tobigs_17/blob/main/wk2_optimization_assignment.ipynb\" target=\"_parent\"><img src=\"https://colab.research.google.com/assets/colab-badge.svg\" alt=\"Open In Colab\"/></a>"
      ]
    },
    {
      "cell_type": "markdown",
      "metadata": {
        "id": "d2StPehwLMat"
      },
      "source": [
        "\\# Tobig's 17기 2주차 Optimization 과제\n",
        "\n",
        "-박나윤"
      ]
    },
    {
      "cell_type": "markdown",
      "metadata": {
        "id": "DKIX8PqcLMaw"
      },
      "source": [
        "# Gradient Descent 구현하기\n",
        "\n",
        "### 1)\"...\"표시되어 있는 빈 칸을 채워주세요\n",
        "### 2)강의내용과 코드에 대해 공부한 내용을 마크마운 또는 주석으로 설명해주세요"
      ]
    },
    {
      "cell_type": "markdown",
      "metadata": {
        "id": "C6DNHHXfLMax"
      },
      "source": [
        "## 데이터"
      ]
    },
    {
      "cell_type": "code",
      "execution_count": 1,
      "metadata": {
        "id": "EP3O4xptLMay"
      },
      "outputs": [],
      "source": [
        "import pandas as pd\n",
        "import numpy as np\n",
        "import random"
      ]
    },
    {
      "cell_type": "code",
      "execution_count": 5,
      "metadata": {
        "id": "oByQ9wXHLMay",
        "colab": {
          "base_uri": "https://localhost:8080/",
          "height": 206
        },
        "outputId": "0efd89b4-fe81-4fbe-c4ea-62668ad28a88"
      },
      "outputs": [
        {
          "output_type": "execute_result",
          "data": {
            "text/html": [
              "\n",
              "  <div id=\"df-ab1088f4-c50c-45ea-a505-ee7bae8f1d0d\">\n",
              "    <div class=\"colab-df-container\">\n",
              "      <div>\n",
              "<style scoped>\n",
              "    .dataframe tbody tr th:only-of-type {\n",
              "        vertical-align: middle;\n",
              "    }\n",
              "\n",
              "    .dataframe tbody tr th {\n",
              "        vertical-align: top;\n",
              "    }\n",
              "\n",
              "    .dataframe thead th {\n",
              "        text-align: right;\n",
              "    }\n",
              "</style>\n",
              "<table border=\"1\" class=\"dataframe\">\n",
              "  <thead>\n",
              "    <tr style=\"text-align: right;\">\n",
              "      <th></th>\n",
              "      <th>Label</th>\n",
              "      <th>bias</th>\n",
              "      <th>experience</th>\n",
              "      <th>salary</th>\n",
              "    </tr>\n",
              "  </thead>\n",
              "  <tbody>\n",
              "    <tr>\n",
              "      <th>0</th>\n",
              "      <td>1</td>\n",
              "      <td>1</td>\n",
              "      <td>0.7</td>\n",
              "      <td>48000</td>\n",
              "    </tr>\n",
              "    <tr>\n",
              "      <th>1</th>\n",
              "      <td>0</td>\n",
              "      <td>1</td>\n",
              "      <td>1.9</td>\n",
              "      <td>48000</td>\n",
              "    </tr>\n",
              "    <tr>\n",
              "      <th>2</th>\n",
              "      <td>1</td>\n",
              "      <td>1</td>\n",
              "      <td>2.5</td>\n",
              "      <td>60000</td>\n",
              "    </tr>\n",
              "    <tr>\n",
              "      <th>3</th>\n",
              "      <td>0</td>\n",
              "      <td>1</td>\n",
              "      <td>4.2</td>\n",
              "      <td>63000</td>\n",
              "    </tr>\n",
              "    <tr>\n",
              "      <th>4</th>\n",
              "      <td>0</td>\n",
              "      <td>1</td>\n",
              "      <td>6.0</td>\n",
              "      <td>76000</td>\n",
              "    </tr>\n",
              "  </tbody>\n",
              "</table>\n",
              "</div>\n",
              "      <button class=\"colab-df-convert\" onclick=\"convertToInteractive('df-ab1088f4-c50c-45ea-a505-ee7bae8f1d0d')\"\n",
              "              title=\"Convert this dataframe to an interactive table.\"\n",
              "              style=\"display:none;\">\n",
              "        \n",
              "  <svg xmlns=\"http://www.w3.org/2000/svg\" height=\"24px\"viewBox=\"0 0 24 24\"\n",
              "       width=\"24px\">\n",
              "    <path d=\"M0 0h24v24H0V0z\" fill=\"none\"/>\n",
              "    <path d=\"M18.56 5.44l.94 2.06.94-2.06 2.06-.94-2.06-.94-.94-2.06-.94 2.06-2.06.94zm-11 1L8.5 8.5l.94-2.06 2.06-.94-2.06-.94L8.5 2.5l-.94 2.06-2.06.94zm10 10l.94 2.06.94-2.06 2.06-.94-2.06-.94-.94-2.06-.94 2.06-2.06.94z\"/><path d=\"M17.41 7.96l-1.37-1.37c-.4-.4-.92-.59-1.43-.59-.52 0-1.04.2-1.43.59L10.3 9.45l-7.72 7.72c-.78.78-.78 2.05 0 2.83L4 21.41c.39.39.9.59 1.41.59.51 0 1.02-.2 1.41-.59l7.78-7.78 2.81-2.81c.8-.78.8-2.07 0-2.86zM5.41 20L4 18.59l7.72-7.72 1.47 1.35L5.41 20z\"/>\n",
              "  </svg>\n",
              "      </button>\n",
              "      \n",
              "  <style>\n",
              "    .colab-df-container {\n",
              "      display:flex;\n",
              "      flex-wrap:wrap;\n",
              "      gap: 12px;\n",
              "    }\n",
              "\n",
              "    .colab-df-convert {\n",
              "      background-color: #E8F0FE;\n",
              "      border: none;\n",
              "      border-radius: 50%;\n",
              "      cursor: pointer;\n",
              "      display: none;\n",
              "      fill: #1967D2;\n",
              "      height: 32px;\n",
              "      padding: 0 0 0 0;\n",
              "      width: 32px;\n",
              "    }\n",
              "\n",
              "    .colab-df-convert:hover {\n",
              "      background-color: #E2EBFA;\n",
              "      box-shadow: 0px 1px 2px rgba(60, 64, 67, 0.3), 0px 1px 3px 1px rgba(60, 64, 67, 0.15);\n",
              "      fill: #174EA6;\n",
              "    }\n",
              "\n",
              "    [theme=dark] .colab-df-convert {\n",
              "      background-color: #3B4455;\n",
              "      fill: #D2E3FC;\n",
              "    }\n",
              "\n",
              "    [theme=dark] .colab-df-convert:hover {\n",
              "      background-color: #434B5C;\n",
              "      box-shadow: 0px 1px 3px 1px rgba(0, 0, 0, 0.15);\n",
              "      filter: drop-shadow(0px 1px 2px rgba(0, 0, 0, 0.3));\n",
              "      fill: #FFFFFF;\n",
              "    }\n",
              "  </style>\n",
              "\n",
              "      <script>\n",
              "        const buttonEl =\n",
              "          document.querySelector('#df-ab1088f4-c50c-45ea-a505-ee7bae8f1d0d button.colab-df-convert');\n",
              "        buttonEl.style.display =\n",
              "          google.colab.kernel.accessAllowed ? 'block' : 'none';\n",
              "\n",
              "        async function convertToInteractive(key) {\n",
              "          const element = document.querySelector('#df-ab1088f4-c50c-45ea-a505-ee7bae8f1d0d');\n",
              "          const dataTable =\n",
              "            await google.colab.kernel.invokeFunction('convertToInteractive',\n",
              "                                                     [key], {});\n",
              "          if (!dataTable) return;\n",
              "\n",
              "          const docLinkHtml = 'Like what you see? Visit the ' +\n",
              "            '<a target=\"_blank\" href=https://colab.research.google.com/notebooks/data_table.ipynb>data table notebook</a>'\n",
              "            + ' to learn more about interactive tables.';\n",
              "          element.innerHTML = '';\n",
              "          dataTable['output_type'] = 'display_data';\n",
              "          await google.colab.output.renderOutput(dataTable, element);\n",
              "          const docLink = document.createElement('div');\n",
              "          docLink.innerHTML = docLinkHtml;\n",
              "          element.appendChild(docLink);\n",
              "        }\n",
              "      </script>\n",
              "    </div>\n",
              "  </div>\n",
              "  "
            ],
            "text/plain": [
              "   Label  bias  experience  salary\n",
              "0      1     1         0.7   48000\n",
              "1      0     1         1.9   48000\n",
              "2      1     1         2.5   60000\n",
              "3      0     1         4.2   63000\n",
              "4      0     1         6.0   76000"
            ]
          },
          "metadata": {},
          "execution_count": 5
        }
      ],
      "source": [
        "data = pd.read_csv('/content/drive/MyDrive/Tobigs/17기 2주차 Optimization 강의 자료/assignment_2.csv')\n",
        "data.head()"
      ]
    },
    {
      "cell_type": "markdown",
      "metadata": {
        "id": "ubOR3hWGLMaz"
      },
      "source": [
        "## Train Test 데이터 나누기"
      ]
    },
    {
      "cell_type": "code",
      "source": [
        "from google.colab import drive\n",
        "drive.mount('/content/drive')"
      ],
      "metadata": {
        "colab": {
          "base_uri": "https://localhost:8080/"
        },
        "id": "kjFpIpLJXha_",
        "outputId": "419c156e-3bac-4b1c-d89e-5ec3abbd5b1c"
      },
      "execution_count": 6,
      "outputs": [
        {
          "output_type": "stream",
          "name": "stdout",
          "text": [
            "Drive already mounted at /content/drive; to attempt to forcibly remount, call drive.mount(\"/content/drive\", force_remount=True).\n"
          ]
        }
      ]
    },
    {
      "cell_type": "code",
      "execution_count": 7,
      "metadata": {
        "id": "IySSjlizLMaz"
      },
      "outputs": [],
      "source": [
        "from sklearn.model_selection import train_test_split"
      ]
    },
    {
      "cell_type": "code",
      "execution_count": 8,
      "metadata": {
        "id": "075EQI1bLMa0"
      },
      "outputs": [],
      "source": [
        "X_train, X_test, y_train, y_test = train_test_split(data.iloc[:, 1:], data.iloc[:, 0], test_size = 0.25, random_state = 0)"
      ]
    },
    {
      "cell_type": "markdown",
      "source": [
        "Train Data와 Test Data를 3:1 로 분할하였다.\n",
        "그 결과 Train Data의 길이는 150, Test Data의 길이는 50과 같다. "
      ],
      "metadata": {
        "id": "6gQusKfsfdW5"
      }
    },
    {
      "cell_type": "code",
      "execution_count": 9,
      "metadata": {
        "id": "O8Ht5u8kLMa1",
        "colab": {
          "base_uri": "https://localhost:8080/"
        },
        "outputId": "bbe83533-647b-4884-feee-7e996827e96f"
      },
      "outputs": [
        {
          "output_type": "execute_result",
          "data": {
            "text/plain": [
              "((150, 3), (50, 3), (150,), (50,))"
            ]
          },
          "metadata": {},
          "execution_count": 9
        }
      ],
      "source": [
        "X_train.shape, X_test.shape, y_train.shape, y_test.shape"
      ]
    },
    {
      "cell_type": "markdown",
      "metadata": {
        "id": "hYmxND_xLMa2"
      },
      "source": [
        "## Scaling\n",
        "\n",
        "experience와 salary의 단위, 평균, 분산이 크게 차이나므로 scaler를 사용해 단위를 맞춰줍니다. "
      ]
    },
    {
      "cell_type": "code",
      "execution_count": 10,
      "metadata": {
        "id": "UI0Xy0gHLMa3",
        "colab": {
          "base_uri": "https://localhost:8080/",
          "height": 206
        },
        "outputId": "714f7b2e-a5d7-46b4-a17e-8f71758bc44b"
      },
      "outputs": [
        {
          "output_type": "execute_result",
          "data": {
            "text/html": [
              "\n",
              "  <div id=\"df-86f95b0e-f1e1-44a0-981d-e9b05d555a5c\">\n",
              "    <div class=\"colab-df-container\">\n",
              "      <div>\n",
              "<style scoped>\n",
              "    .dataframe tbody tr th:only-of-type {\n",
              "        vertical-align: middle;\n",
              "    }\n",
              "\n",
              "    .dataframe tbody tr th {\n",
              "        vertical-align: top;\n",
              "    }\n",
              "\n",
              "    .dataframe thead th {\n",
              "        text-align: right;\n",
              "    }\n",
              "</style>\n",
              "<table border=\"1\" class=\"dataframe\">\n",
              "  <thead>\n",
              "    <tr style=\"text-align: right;\">\n",
              "      <th></th>\n",
              "      <th>bias</th>\n",
              "      <th>experience</th>\n",
              "      <th>salary</th>\n",
              "    </tr>\n",
              "  </thead>\n",
              "  <tbody>\n",
              "    <tr>\n",
              "      <th>0</th>\n",
              "      <td>1</td>\n",
              "      <td>0.187893</td>\n",
              "      <td>-1.143335</td>\n",
              "    </tr>\n",
              "    <tr>\n",
              "      <th>1</th>\n",
              "      <td>1</td>\n",
              "      <td>1.185555</td>\n",
              "      <td>0.043974</td>\n",
              "    </tr>\n",
              "    <tr>\n",
              "      <th>2</th>\n",
              "      <td>1</td>\n",
              "      <td>-0.310938</td>\n",
              "      <td>-0.351795</td>\n",
              "    </tr>\n",
              "    <tr>\n",
              "      <th>3</th>\n",
              "      <td>1</td>\n",
              "      <td>-1.629277</td>\n",
              "      <td>-1.341220</td>\n",
              "    </tr>\n",
              "    <tr>\n",
              "      <th>4</th>\n",
              "      <td>1</td>\n",
              "      <td>-1.308600</td>\n",
              "      <td>0.043974</td>\n",
              "    </tr>\n",
              "  </tbody>\n",
              "</table>\n",
              "</div>\n",
              "      <button class=\"colab-df-convert\" onclick=\"convertToInteractive('df-86f95b0e-f1e1-44a0-981d-e9b05d555a5c')\"\n",
              "              title=\"Convert this dataframe to an interactive table.\"\n",
              "              style=\"display:none;\">\n",
              "        \n",
              "  <svg xmlns=\"http://www.w3.org/2000/svg\" height=\"24px\"viewBox=\"0 0 24 24\"\n",
              "       width=\"24px\">\n",
              "    <path d=\"M0 0h24v24H0V0z\" fill=\"none\"/>\n",
              "    <path d=\"M18.56 5.44l.94 2.06.94-2.06 2.06-.94-2.06-.94-.94-2.06-.94 2.06-2.06.94zm-11 1L8.5 8.5l.94-2.06 2.06-.94-2.06-.94L8.5 2.5l-.94 2.06-2.06.94zm10 10l.94 2.06.94-2.06 2.06-.94-2.06-.94-.94-2.06-.94 2.06-2.06.94z\"/><path d=\"M17.41 7.96l-1.37-1.37c-.4-.4-.92-.59-1.43-.59-.52 0-1.04.2-1.43.59L10.3 9.45l-7.72 7.72c-.78.78-.78 2.05 0 2.83L4 21.41c.39.39.9.59 1.41.59.51 0 1.02-.2 1.41-.59l7.78-7.78 2.81-2.81c.8-.78.8-2.07 0-2.86zM5.41 20L4 18.59l7.72-7.72 1.47 1.35L5.41 20z\"/>\n",
              "  </svg>\n",
              "      </button>\n",
              "      \n",
              "  <style>\n",
              "    .colab-df-container {\n",
              "      display:flex;\n",
              "      flex-wrap:wrap;\n",
              "      gap: 12px;\n",
              "    }\n",
              "\n",
              "    .colab-df-convert {\n",
              "      background-color: #E8F0FE;\n",
              "      border: none;\n",
              "      border-radius: 50%;\n",
              "      cursor: pointer;\n",
              "      display: none;\n",
              "      fill: #1967D2;\n",
              "      height: 32px;\n",
              "      padding: 0 0 0 0;\n",
              "      width: 32px;\n",
              "    }\n",
              "\n",
              "    .colab-df-convert:hover {\n",
              "      background-color: #E2EBFA;\n",
              "      box-shadow: 0px 1px 2px rgba(60, 64, 67, 0.3), 0px 1px 3px 1px rgba(60, 64, 67, 0.15);\n",
              "      fill: #174EA6;\n",
              "    }\n",
              "\n",
              "    [theme=dark] .colab-df-convert {\n",
              "      background-color: #3B4455;\n",
              "      fill: #D2E3FC;\n",
              "    }\n",
              "\n",
              "    [theme=dark] .colab-df-convert:hover {\n",
              "      background-color: #434B5C;\n",
              "      box-shadow: 0px 1px 3px 1px rgba(0, 0, 0, 0.15);\n",
              "      filter: drop-shadow(0px 1px 2px rgba(0, 0, 0, 0.3));\n",
              "      fill: #FFFFFF;\n",
              "    }\n",
              "  </style>\n",
              "\n",
              "      <script>\n",
              "        const buttonEl =\n",
              "          document.querySelector('#df-86f95b0e-f1e1-44a0-981d-e9b05d555a5c button.colab-df-convert');\n",
              "        buttonEl.style.display =\n",
              "          google.colab.kernel.accessAllowed ? 'block' : 'none';\n",
              "\n",
              "        async function convertToInteractive(key) {\n",
              "          const element = document.querySelector('#df-86f95b0e-f1e1-44a0-981d-e9b05d555a5c');\n",
              "          const dataTable =\n",
              "            await google.colab.kernel.invokeFunction('convertToInteractive',\n",
              "                                                     [key], {});\n",
              "          if (!dataTable) return;\n",
              "\n",
              "          const docLinkHtml = 'Like what you see? Visit the ' +\n",
              "            '<a target=\"_blank\" href=https://colab.research.google.com/notebooks/data_table.ipynb>data table notebook</a>'\n",
              "            + ' to learn more about interactive tables.';\n",
              "          element.innerHTML = '';\n",
              "          dataTable['output_type'] = 'display_data';\n",
              "          await google.colab.output.renderOutput(dataTable, element);\n",
              "          const docLink = document.createElement('div');\n",
              "          docLink.innerHTML = docLinkHtml;\n",
              "          element.appendChild(docLink);\n",
              "        }\n",
              "      </script>\n",
              "    </div>\n",
              "  </div>\n",
              "  "
            ],
            "text/plain": [
              "   bias  experience    salary\n",
              "0     1    0.187893 -1.143335\n",
              "1     1    1.185555  0.043974\n",
              "2     1   -0.310938 -0.351795\n",
              "3     1   -1.629277 -1.341220\n",
              "4     1   -1.308600  0.043974"
            ]
          },
          "metadata": {},
          "execution_count": 10
        }
      ],
      "source": [
        "from sklearn.preprocessing import StandardScaler\n",
        "scaler = StandardScaler()\n",
        "bias_train = X_train[\"bias\"]\n",
        "bias_train = bias_train.reset_index()[\"bias\"]\n",
        "X_train = pd.DataFrame(scaler.fit_transform(X_train), columns = X_train.columns)\n",
        "X_train[\"bias\"] = bias_train\n",
        "X_train.head()"
      ]
    },
    {
      "cell_type": "markdown",
      "metadata": {
        "id": "xD7L7RwZLMa3"
      },
      "source": [
        "이때 scaler는 X_train에 fit 해주시고, fit한 scaler를 X_test에 적용시켜줍니다.  \n",
        "똑같이 X_test에다 fit하면 안돼요!"
      ]
    },
    {
      "cell_type": "code",
      "execution_count": 11,
      "metadata": {
        "id": "xBsUSCGGLMa3",
        "colab": {
          "base_uri": "https://localhost:8080/",
          "height": 206
        },
        "outputId": "aae70ff0-e0e8-4566-f209-ea47cd41dbb5"
      },
      "outputs": [
        {
          "output_type": "execute_result",
          "data": {
            "text/html": [
              "\n",
              "  <div id=\"df-3d8bfc57-e6c4-4403-8d11-50959b2bba68\">\n",
              "    <div class=\"colab-df-container\">\n",
              "      <div>\n",
              "<style scoped>\n",
              "    .dataframe tbody tr th:only-of-type {\n",
              "        vertical-align: middle;\n",
              "    }\n",
              "\n",
              "    .dataframe tbody tr th {\n",
              "        vertical-align: top;\n",
              "    }\n",
              "\n",
              "    .dataframe thead th {\n",
              "        text-align: right;\n",
              "    }\n",
              "</style>\n",
              "<table border=\"1\" class=\"dataframe\">\n",
              "  <thead>\n",
              "    <tr style=\"text-align: right;\">\n",
              "      <th></th>\n",
              "      <th>bias</th>\n",
              "      <th>experience</th>\n",
              "      <th>salary</th>\n",
              "    </tr>\n",
              "  </thead>\n",
              "  <tbody>\n",
              "    <tr>\n",
              "      <th>0</th>\n",
              "      <td>1</td>\n",
              "      <td>-1.344231</td>\n",
              "      <td>-0.615642</td>\n",
              "    </tr>\n",
              "    <tr>\n",
              "      <th>1</th>\n",
              "      <td>1</td>\n",
              "      <td>0.508570</td>\n",
              "      <td>0.307821</td>\n",
              "    </tr>\n",
              "    <tr>\n",
              "      <th>2</th>\n",
              "      <td>1</td>\n",
              "      <td>-0.310938</td>\n",
              "      <td>0.571667</td>\n",
              "    </tr>\n",
              "    <tr>\n",
              "      <th>3</th>\n",
              "      <td>1</td>\n",
              "      <td>1.363709</td>\n",
              "      <td>1.956862</td>\n",
              "    </tr>\n",
              "    <tr>\n",
              "      <th>4</th>\n",
              "      <td>1</td>\n",
              "      <td>-0.987923</td>\n",
              "      <td>-0.747565</td>\n",
              "    </tr>\n",
              "  </tbody>\n",
              "</table>\n",
              "</div>\n",
              "      <button class=\"colab-df-convert\" onclick=\"convertToInteractive('df-3d8bfc57-e6c4-4403-8d11-50959b2bba68')\"\n",
              "              title=\"Convert this dataframe to an interactive table.\"\n",
              "              style=\"display:none;\">\n",
              "        \n",
              "  <svg xmlns=\"http://www.w3.org/2000/svg\" height=\"24px\"viewBox=\"0 0 24 24\"\n",
              "       width=\"24px\">\n",
              "    <path d=\"M0 0h24v24H0V0z\" fill=\"none\"/>\n",
              "    <path d=\"M18.56 5.44l.94 2.06.94-2.06 2.06-.94-2.06-.94-.94-2.06-.94 2.06-2.06.94zm-11 1L8.5 8.5l.94-2.06 2.06-.94-2.06-.94L8.5 2.5l-.94 2.06-2.06.94zm10 10l.94 2.06.94-2.06 2.06-.94-2.06-.94-.94-2.06-.94 2.06-2.06.94z\"/><path d=\"M17.41 7.96l-1.37-1.37c-.4-.4-.92-.59-1.43-.59-.52 0-1.04.2-1.43.59L10.3 9.45l-7.72 7.72c-.78.78-.78 2.05 0 2.83L4 21.41c.39.39.9.59 1.41.59.51 0 1.02-.2 1.41-.59l7.78-7.78 2.81-2.81c.8-.78.8-2.07 0-2.86zM5.41 20L4 18.59l7.72-7.72 1.47 1.35L5.41 20z\"/>\n",
              "  </svg>\n",
              "      </button>\n",
              "      \n",
              "  <style>\n",
              "    .colab-df-container {\n",
              "      display:flex;\n",
              "      flex-wrap:wrap;\n",
              "      gap: 12px;\n",
              "    }\n",
              "\n",
              "    .colab-df-convert {\n",
              "      background-color: #E8F0FE;\n",
              "      border: none;\n",
              "      border-radius: 50%;\n",
              "      cursor: pointer;\n",
              "      display: none;\n",
              "      fill: #1967D2;\n",
              "      height: 32px;\n",
              "      padding: 0 0 0 0;\n",
              "      width: 32px;\n",
              "    }\n",
              "\n",
              "    .colab-df-convert:hover {\n",
              "      background-color: #E2EBFA;\n",
              "      box-shadow: 0px 1px 2px rgba(60, 64, 67, 0.3), 0px 1px 3px 1px rgba(60, 64, 67, 0.15);\n",
              "      fill: #174EA6;\n",
              "    }\n",
              "\n",
              "    [theme=dark] .colab-df-convert {\n",
              "      background-color: #3B4455;\n",
              "      fill: #D2E3FC;\n",
              "    }\n",
              "\n",
              "    [theme=dark] .colab-df-convert:hover {\n",
              "      background-color: #434B5C;\n",
              "      box-shadow: 0px 1px 3px 1px rgba(0, 0, 0, 0.15);\n",
              "      filter: drop-shadow(0px 1px 2px rgba(0, 0, 0, 0.3));\n",
              "      fill: #FFFFFF;\n",
              "    }\n",
              "  </style>\n",
              "\n",
              "      <script>\n",
              "        const buttonEl =\n",
              "          document.querySelector('#df-3d8bfc57-e6c4-4403-8d11-50959b2bba68 button.colab-df-convert');\n",
              "        buttonEl.style.display =\n",
              "          google.colab.kernel.accessAllowed ? 'block' : 'none';\n",
              "\n",
              "        async function convertToInteractive(key) {\n",
              "          const element = document.querySelector('#df-3d8bfc57-e6c4-4403-8d11-50959b2bba68');\n",
              "          const dataTable =\n",
              "            await google.colab.kernel.invokeFunction('convertToInteractive',\n",
              "                                                     [key], {});\n",
              "          if (!dataTable) return;\n",
              "\n",
              "          const docLinkHtml = 'Like what you see? Visit the ' +\n",
              "            '<a target=\"_blank\" href=https://colab.research.google.com/notebooks/data_table.ipynb>data table notebook</a>'\n",
              "            + ' to learn more about interactive tables.';\n",
              "          element.innerHTML = '';\n",
              "          dataTable['output_type'] = 'display_data';\n",
              "          await google.colab.output.renderOutput(dataTable, element);\n",
              "          const docLink = document.createElement('div');\n",
              "          docLink.innerHTML = docLinkHtml;\n",
              "          element.appendChild(docLink);\n",
              "        }\n",
              "      </script>\n",
              "    </div>\n",
              "  </div>\n",
              "  "
            ],
            "text/plain": [
              "   bias  experience    salary\n",
              "0     1   -1.344231 -0.615642\n",
              "1     1    0.508570  0.307821\n",
              "2     1   -0.310938  0.571667\n",
              "3     1    1.363709  1.956862\n",
              "4     1   -0.987923 -0.747565"
            ]
          },
          "metadata": {},
          "execution_count": 11
        }
      ],
      "source": [
        "bias_test = X_test[\"bias\"]\n",
        "bias_test = bias_test.reset_index()[\"bias\"]\n",
        "X_test = pd.DataFrame(scaler.transform(X_test), columns = X_test.columns)\n",
        "X_test[\"bias\"] = bias_test\n",
        "X_test.head()"
      ]
    },
    {
      "cell_type": "code",
      "execution_count": 12,
      "metadata": {
        "id": "m9sP3nzlLMa4"
      },
      "outputs": [],
      "source": [
        "# parameter 개수\n",
        "N = len(X_train.loc[0])"
      ]
    },
    {
      "cell_type": "code",
      "execution_count": 13,
      "metadata": {
        "id": "qz7xz9dbLMa4",
        "colab": {
          "base_uri": "https://localhost:8080/"
        },
        "outputId": "ddf4c4e6-405f-4baf-d8a8-d798d357a01f"
      },
      "outputs": [
        {
          "output_type": "execute_result",
          "data": {
            "text/plain": [
              "array([0.20373927, 0.08097839, 0.8774461 ])"
            ]
          },
          "metadata": {},
          "execution_count": 13
        }
      ],
      "source": [
        "# 초기 parameter들을 임의로 설정해줍니다.\n",
        "parameters = np.array([random.random() for i in range(N)])\n",
        "random_parameters = parameters.copy()\n",
        "parameters"
      ]
    },
    {
      "cell_type": "markdown",
      "metadata": {
        "id": "QINz-EAKLMa4"
      },
      "source": [
        "### * LaTeX   \n",
        "\n",
        "Jupyter Notebook은 LaTeX 문법으로 수식 입력을 지원하고 있습니다.  \n",
        "LaTeX문법으로 아래의 수식을 완성해주세요  \n",
        "http://triki.net/apps/3466  \n",
        "https://jjycjnmath.tistory.com/117"
      ]
    },
    {
      "cell_type": "markdown",
      "metadata": {
        "id": "D2DsTfXuLMa5"
      },
      "source": [
        "## Dot product\n",
        "## $z = X_i \\theta$"
      ]
    },
    {
      "cell_type": "code",
      "execution_count": 14,
      "metadata": {
        "id": "2y05lS6xLMa5"
      },
      "outputs": [],
      "source": [
        "def dot_product(X, parameters):\n",
        "    z = 0\n",
        "    for i in range(len(parameters)):\n",
        "        z += X[i] * parameters[i]\n",
        "    return z"
      ]
    },
    {
      "cell_type": "markdown",
      "metadata": {
        "id": "fOGPEhtOLMa5"
      },
      "source": [
        "## Logistic Function\n",
        "\n",
        "![image.png](data:image/png;base64,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)"
      ]
    },
    {
      "cell_type": "code",
      "execution_count": 15,
      "metadata": {
        "id": "2awM57u5LMa5"
      },
      "outputs": [],
      "source": [
        "def logistic(X, parameters):\n",
        "    z = dot_product(X,parameters)\n",
        "    p = 1 / (1+np.exp(-z))    \n",
        "    return p"
      ]
    },
    {
      "cell_type": "code",
      "execution_count": 16,
      "metadata": {
        "id": "WVaZEwrdLMa5",
        "colab": {
          "base_uri": "https://localhost:8080/"
        },
        "outputId": "d29c60d2-d479-4e0d-992d-a3f0007854ea"
      },
      "outputs": [
        {
          "output_type": "execute_result",
          "data": {
            "text/plain": [
              "0.5837845116657402"
            ]
          },
          "metadata": {},
          "execution_count": 16
        }
      ],
      "source": [
        "logistic(X_train.iloc[1], parameters)"
      ]
    },
    {
      "cell_type": "markdown",
      "metadata": {
        "id": "E6cXHl8bLMa6"
      },
      "source": [
        "## Object function\n",
        "\n",
        "Object Function : 목적함수는 Gradient Descent를 통해 최적화 하고자 하는 함수입니다.  \n",
        "<br>\n",
        "선형 회귀의 목적함수\n",
        "## $l(\\theta) = \\frac{1}{2}\\Sigma(y_i - \\theta^{T}X_i)^2$  \n",
        "참고) $\\hat{y_i} = \\theta^{T}X_i$\n",
        "  \n",
        "로지스틱 회귀의 목적함수를 작성해주세요  \n",
        "(선형 회귀의 목적함수처럼 강의에 나온대로 작성해주세요. 평균을 고려하는 것은 뒤에 코드에서 수행합니다)\n",
        "\n",
        "![image.png](data:image/png;base64,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)"
      ]
    },
    {
      "cell_type": "code",
      "execution_count": 17,
      "metadata": {
        "id": "FnGRAur3LMa6"
      },
      "outputs": [],
      "source": [
        "def minus_log_cross_entropy_i(X, y, parameters):\n",
        "    p = logistic(X, parameters)\n",
        "    loss = (y * np.log(p) + (1 - y) * np.log(1-p))\n",
        "    return -loss"
      ]
    },
    {
      "cell_type": "code",
      "execution_count": 18,
      "metadata": {
        "id": "C922eXYyLMa6"
      },
      "outputs": [],
      "source": [
        "def mse_i(X, y, parameters):\n",
        "    y_hat = np.dot(X, parameters.T)\n",
        "    loss = ((y - y_hat)**2) / 2\n",
        "    return loss"
      ]
    },
    {
      "cell_type": "code",
      "execution_count": 19,
      "metadata": {
        "id": "0j-MhGkyLMa6"
      },
      "outputs": [],
      "source": [
        "def batch_loss(X_set, y_set, parameters, loss_function, n): #n:현재 배치의 데이터 수\n",
        "    loss = 0\n",
        "    for i in range(X_set.shape[0]):\n",
        "        X = X_set.iloc[i,:]\n",
        "        y = y_set.iloc[i]\n",
        "        loss += loss_function(X, y, parameters)\n",
        "    loss = loss / n #loss 평균값으로 계산\n",
        "    return loss"
      ]
    },
    {
      "cell_type": "code",
      "execution_count": 20,
      "metadata": {
        "id": "uSkPS5olLMa7",
        "colab": {
          "base_uri": "https://localhost:8080/"
        },
        "outputId": "a6165364-d507-4275-afeb-f6941cf80a21"
      },
      "outputs": [
        {
          "output_type": "execute_result",
          "data": {
            "text/plain": [
              "1.036703748201877"
            ]
          },
          "metadata": {},
          "execution_count": 20
        }
      ],
      "source": [
        "batch_loss(X_test, y_test, parameters, minus_log_cross_entropy_i, len(X_test))"
      ]
    },
    {
      "cell_type": "markdown",
      "metadata": {
        "id": "ACLi9vCyLMa7"
      },
      "source": [
        "## Gradient\n",
        "위의 선형회귀의 목적함수 $l(\\theta)$와 로지스틱회귀의 목적함수 $l(p)$의 gradient를 작성해주세요  \n",
        "(위의 목적함수를 참고해서 작성해주세요 = 평균을 고려하는 것은 뒤에 코드에서 수행합니다)"
      ]
    },
    {
      "cell_type": "markdown",
      "metadata": {
        "id": "caMA-f00LMa7"
      },
      "source": [
        "![image.png](data:image/png;base64,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)"
      ]
    },
    {
      "cell_type": "code",
      "execution_count": 21,
      "metadata": {
        "id": "apZ0Miz5LMa7"
      },
      "outputs": [],
      "source": [
        "def get_gradient_ij(X, y, parameters, j, model):\n",
        "    if model == 'linear':\n",
        "        y_hat = np.dot(X, parameters.T)\n",
        "        gradient = (y - y_hat) * X[j]\n",
        "    else:\n",
        "        p = logistic(X, parameters)\n",
        "        gradient = (y - p) * X[j]\n",
        "    return -gradient\n"
      ]
    },
    {
      "cell_type": "code",
      "execution_count": 22,
      "metadata": {
        "id": "XXBe6q8gLMa7",
        "colab": {
          "base_uri": "https://localhost:8080/"
        },
        "outputId": "9d34b365-086a-4451-e8c9-1f5320bff573"
      },
      "outputs": [
        {
          "output_type": "execute_result",
          "data": {
            "text/plain": [
              "-0.12900690507789123"
            ]
          },
          "metadata": {},
          "execution_count": 22
        }
      ],
      "source": [
        "get_gradient_ij(X_train.iloc[0,:], y_train.iloc[0], parameters, 1, 'logistic')"
      ]
    },
    {
      "cell_type": "markdown",
      "metadata": {
        "id": "tt8ZLhTQXQ2H"
      },
      "source": [
        ""
      ]
    },
    {
      "cell_type": "markdown",
      "metadata": {
        "id": "wTfzKh_nLMa7"
      },
      "source": [
        "## Batch Gradient\n",
        "하나의 배치 (X_set, y_set)에 대해 기울기를 구하는 코드를 작성해주세요"
      ]
    },
    {
      "cell_type": "code",
      "execution_count": 23,
      "metadata": {
        "id": "Qby2_X1vLMa7"
      },
      "outputs": [],
      "source": [
        "def batch_gradient(X_set, y_set, parameters, model):\n",
        "    gradients = [0 for _ in range(len(parameters))]\n",
        "    \n",
        "    for i in range(len(X_set)):\n",
        "        X = X_set.iloc[i,:]\n",
        "        y = y_set.iloc[i]\n",
        "        for j in range(len(parameters)):\n",
        "            gradients[j] += get_gradient_ij(X, y, parameters, j, model)\n",
        "    \n",
        "    return gradients"
      ]
    },
    {
      "cell_type": "code",
      "execution_count": 24,
      "metadata": {
        "id": "rHxBS5RnLMa8",
        "colab": {
          "base_uri": "https://localhost:8080/"
        },
        "outputId": "f6b657ba-f6c5-4e84-b856-c6159492f1ff"
      },
      "outputs": [
        {
          "output_type": "execute_result",
          "data": {
            "text/plain": [
              "[38.96517678288225, 5.239330883141548, 43.56128017670672]"
            ]
          },
          "metadata": {},
          "execution_count": 24
        }
      ],
      "source": [
        "gradients1 = batch_gradient(X_train, y_train, parameters, 'logistic')\n",
        "gradients1"
      ]
    },
    {
      "cell_type": "markdown",
      "metadata": {
        "id": "cQnlDboALMa8"
      },
      "source": [
        "## mini-batch\n",
        "인덱스로 미니 배치 나누기"
      ]
    },
    {
      "cell_type": "code",
      "execution_count": 25,
      "metadata": {
        "id": "LgnfT6eHLMa8"
      },
      "outputs": [],
      "source": [
        "def batch_idx(X_train, batch_size):\n",
        "    N = len(X_train)\n",
        "    nb = (N // batch_size)+1 #number of batch\n",
        "    idx = np.array([i for i in range(N)])\n",
        "    idx_list = [idx[i*batch_size:(i+1)*batch_size] for i in range(nb) if len(idx[i*batch_size:(i+1)*batch_size]) != 0]\n",
        "    return idx_list"
      ]
    },
    {
      "cell_type": "markdown",
      "metadata": {
        "id": "9S9fk1UTLMa8"
      },
      "source": [
        "batch_idx 함수에 대한 설명을 batch_size와 함께 간략하게 작성해주세요  \n",
        "### 설명: batch_size는 X_train 데이터를 적절한 몇 개의 그룹으로 나누어 학습을 진행하기 위해, 한 번 학습할 때 얼만큼의 데이터를 활용할 것인지를 정하는 하이퍼파라미터이다. batch_size의 설정은 1부터 X_train의 크기 만큼으로 가능한데, 이 수치는 한 번 학습될 때 활용되는 데이터의 크기이다. 만약 batch_size가 1이라면, 한 번에 1개씩의 데이터만을 활용하여 학습을 진행하므로 X_train 크기 만큼 학습을 진행하게 된다. 한편 batch_size가 X_train의 크기와 같다면, 한 번에 모든 데이터를 활용하여 학습하고 학습이 종료될 것이다."
      ]
    },
    {
      "cell_type": "markdown",
      "metadata": {
        "id": "4pMuZbkQLMa8"
      },
      "source": [
        "## Update Parameters\n",
        "기울기를 갱신하는 코드를 작성해주세요  \n",
        "(loss와 마찬가지로 기울기를 갱신할 때 배치 사이즈를 고려해 평균으로 갱신해주세요)"
      ]
    },
    {
      "cell_type": "code",
      "execution_count": 26,
      "metadata": {
        "id": "loeL51rPLMa8"
      },
      "outputs": [],
      "source": [
        "def step(parameters, gradients, learning_rate, n): #n:현재 배치의 데이터 수\n",
        "    for i in range(len(parameters)):\n",
        "        gradients[i] *= learning_rate / n\n",
        "    \n",
        "    parameters -= gradients\n",
        "    return parameters"
      ]
    },
    {
      "cell_type": "code",
      "execution_count": 27,
      "metadata": {
        "id": "NLB2dUVTLMa8",
        "colab": {
          "base_uri": "https://localhost:8080/"
        },
        "outputId": "9f39adca-0852-46ea-b2eb-053bedbb2e44"
      },
      "outputs": [
        {
          "output_type": "execute_result",
          "data": {
            "text/plain": [
              "array([0.20114159, 0.0806291 , 0.87454202])"
            ]
          },
          "metadata": {},
          "execution_count": 27
        }
      ],
      "source": [
        "step(parameters, gradients1, 0.01, len(X_train))"
      ]
    },
    {
      "cell_type": "markdown",
      "metadata": {
        "id": "RX8RJFd_LMa9"
      },
      "source": [
        "## Gradient Descent\n",
        "위에서 작성한 함수들을 조합해서 경사하강법 함수를 완성해주세요\n",
        "\n",
        "- learning_rate: 학습률  \n",
        "- tolerance: Step이 너무 작아서 더 이상의 학습이 무의미할 때 학습을 멈추는 조건  \n",
        "- batch: 기울기를 1번 갱신할 때 사용하는 데이터셋  \n",
        "- epoch:  \n",
        "- num_epoch:\n",
        "\n",
        "<br>\n",
        "\n",
        "BGD: 학습 한 번에 모든 데이터셋에 대해 기울기를 구하는 방식\n",
        "\n",
        "SGD: 학습 한 번에 임의의 1개 데이터에 대해서만 기울기를 구하는 방식\n",
        "\n",
        "MGD: 학습 한 번에 데이터셋의 일부에 대해서만 기울기를 구하는 방식\n",
        "\n",
        "<br>\n",
        "\n",
        "\n",
        "batch_size에 따른 경사하강법의 종류를 적어주세요\n",
        "\n",
        "batch_size=1 -> SGD\n",
        "\n",
        "batch_size=k -> MGD\n",
        "\n",
        "batch_size=whole -> BGD "
      ]
    },
    {
      "cell_type": "code",
      "execution_count": 28,
      "metadata": {
        "id": "ZGbnVHbbLMa9"
      },
      "outputs": [],
      "source": [
        "def gradient_descent(X_train, y_train, learning_rate = 0.1, num_epoch = 1000, tolerance = 0.00001, model = 'logistic', batch_size = 16):\n",
        "    stopper = False\n",
        "    \n",
        "    N = len(X_train.iloc[0])\n",
        "    parameters = np.random.rand(N)\n",
        "    loss_function = minus_log_cross_entropy_i if model == 'logistic' else mse_i\n",
        "    loss = 999\n",
        "    batch_idx_list = batch_idx(X_train, batch_size)\n",
        "    \n",
        "    for epoch in range(num_epoch):\n",
        "        if stopper:\n",
        "            break\n",
        "        for idx in batch_idx_list:\n",
        "            X_batch = X_train.iloc[idx,]\n",
        "            y_batch = y_train.iloc[idx]\n",
        "            gradients = batch_gradient(X_batch, y_batch, parameters, model)\n",
        "            parameters = step(parameters, gradients, learning_rate, len(X_batch))\n",
        "            new_loss = batch_loss(X_batch, y_batch, parameters, loss_function, len(X_batch))\n",
        "            \n",
        "            #중단 조건\n",
        "            if abs(new_loss - loss) < tolerance:\n",
        "                stopper = True\n",
        "                break\n",
        "            loss = new_loss\n",
        "        \n",
        "        #100epoch마다 학습 상태 출력\n",
        "        if epoch%100 == 0: #출력이 길게 나오면 check point를 수정해도 됩니다.\n",
        "            print(f\"epoch: {epoch}  loss: {new_loss}  params: {parameters}  gradients: {gradients}\")\n",
        "    \n",
        "    return parameters"
      ]
    },
    {
      "cell_type": "markdown",
      "metadata": {
        "id": "3CTtc3eiLMa9"
      },
      "source": [
        "## Implement\n",
        "경사하강법 함수를 이용해 최적의 모수 찾아보세요. 학습을 진행할 때, Hyper Parameter를 바꿔가면서 학습시켜보세요."
      ]
    },
    {
      "cell_type": "markdown",
      "metadata": {
        "id": "KnUpYC7_LMa9"
      },
      "source": [
        "## Logistic Regression"
      ]
    },
    {
      "cell_type": "code",
      "execution_count": 29,
      "metadata": {
        "id": "-LS6o3aeLMa-",
        "colab": {
          "base_uri": "https://localhost:8080/"
        },
        "outputId": "25da3377-af8a-417d-ee1f-dd42dbd61681"
      },
      "outputs": [
        {
          "output_type": "stream",
          "name": "stdout",
          "text": [
            "epoch: 0  loss: 0.9289308311080505  params: [0.68113813 0.24545923 0.31212412]  gradients: [0.038195073293142645, -0.0017787509239835053, 0.020023054097876254]\n",
            "epoch: 100  loss: 0.4587110836947903  params: [-0.79571836  0.83699537 -0.758044  ]  gradients: [0.004274065378773387, -0.006387468021044204, 0.006555603793049864]\n",
            "epoch: 200  loss: 0.3942713834196306  params: [-1.02781336  1.37734218 -1.29410109]  gradients: [0.0013644463057392666, -0.004554070487773949, 0.004454954452105005]\n",
            "epoch: 300  loss: 0.3628136581353069  params: [-1.13565714  1.77033963 -1.67705052]  gradients: [0.0008993565922392309, -0.00341046569125611, 0.0033108312566773445]\n",
            "epoch: 400  loss: 0.3444507703973669  params: [-1.21594382  2.07225611 -1.96922335]  gradients: [0.0007251739994887698, -0.00268524911584985, 0.0025903058632073778]\n",
            "epoch: 500  loss: 0.33269164599076767  params: [-1.28244348  2.31437859 -2.20215413]  gradients: [0.0006117129056224845, -0.0021909397328815088, 0.002102128626086739]\n",
            "epoch: 600  loss: 0.3246787177876559  params: [-1.33904995  2.51454526 -2.39376956]  gradients: [0.0005247066876476311, -0.0018337930146167883, 0.0017515209757199808]\n",
            "epoch: 700  loss: 0.31897004779420174  params: [-1.38788398  2.68371549 -2.5550374 ]  gradients: [0.0004551346876467299, -0.0015640609635345253, 0.0014881687035723336]\n",
            "epoch: 800  loss: 0.31476527029727547  params: [-1.43044249  2.82907222 -2.69311108]  gradients: [0.00039846763208291683, -0.0013533272200251451, 0.0012834245596668506]\n",
            "epoch: 900  loss: 0.3115873293809827  params: [-1.46785345  2.95557402 -2.81290567]  gradients: [0.00035165788614401956, -0.0011842783184893323, 0.0011199025882237296]\n"
          ]
        },
        {
          "output_type": "execute_result",
          "data": {
            "text/plain": [
              "array([-1.50067299,  3.06574297, -2.9169557 ])"
            ]
          },
          "metadata": {},
          "execution_count": 29
        }
      ],
      "source": [
        "new_param_bgd = gradient_descent(X_train, y_train, batch_size = X_train.shape[0])\n",
        "new_param_bgd"
      ]
    },
    {
      "cell_type": "code",
      "execution_count": 30,
      "metadata": {
        "id": "x0H5tnauLMa-",
        "colab": {
          "base_uri": "https://localhost:8080/"
        },
        "outputId": "9200f6fc-2087-478a-fb2b-9c93e98f0c01"
      },
      "outputs": [
        {
          "output_type": "stream",
          "name": "stdout",
          "text": [
            "epoch: 0  loss: 0.2826849103590931  params: [-0.86486782  1.00389192 -1.13731409]  gradients: [0.025481195448320195, 0.013866890934926136, 0.01792833320716883]\n",
            "epoch: 100  loss: 0.07736675291005347  params: [-1.93032527  4.17501832 -4.06769005]  gradients: [0.007538547036847622, 0.004102484507832145, 0.005304051901671245]\n",
            "epoch: 200  loss: 0.0773626655248139  params: [-1.9303681   4.1751431  -4.06780374]  gradients: [0.0075381595221151905, 0.00410227362194411, 0.0053037792498932]\n",
            "epoch: 300  loss: 0.07736266518361752  params: [-1.9303681   4.17514311 -4.06780375]  gradients: [0.007538159489767166, 0.004102273604340285, 0.005303779227133429]\n",
            "epoch: 400  loss: 0.07736266518359017  params: [-1.9303681   4.17514311 -4.06780375]  gradients: [0.007538159489764571, 0.004102273604338872, 0.005303779227131603]\n",
            "epoch: 500  loss: 0.07736266518359017  params: [-1.9303681   4.17514311 -4.06780375]  gradients: [0.007538159489764571, 0.004102273604338872, 0.005303779227131603]\n",
            "epoch: 600  loss: 0.07736266518359017  params: [-1.9303681   4.17514311 -4.06780375]  gradients: [0.007538159489764571, 0.004102273604338872, 0.005303779227131603]\n",
            "epoch: 700  loss: 0.07736266518359017  params: [-1.9303681   4.17514311 -4.06780375]  gradients: [0.007538159489764571, 0.004102273604338872, 0.005303779227131603]\n",
            "epoch: 800  loss: 0.07736266518359017  params: [-1.9303681   4.17514311 -4.06780375]  gradients: [0.007538159489764571, 0.004102273604338872, 0.005303779227131603]\n",
            "epoch: 900  loss: 0.07736266518359017  params: [-1.9303681   4.17514311 -4.06780375]  gradients: [0.007538159489764571, 0.004102273604338872, 0.005303779227131603]\n"
          ]
        },
        {
          "output_type": "execute_result",
          "data": {
            "text/plain": [
              "array([-1.9303681 ,  4.17514311, -4.06780375])"
            ]
          },
          "metadata": {},
          "execution_count": 30
        }
      ],
      "source": [
        "new_param_sgd = gradient_descent(X_train, y_train, batch_size = 1)\n",
        "new_param_sgd"
      ]
    },
    {
      "cell_type": "code",
      "execution_count": 31,
      "metadata": {
        "id": "iGfXGoJaLMa-",
        "colab": {
          "base_uri": "https://localhost:8080/"
        },
        "outputId": "f9aadcc7-bdbf-4d9b-a277-258afcbcf528"
      },
      "outputs": [
        {
          "output_type": "stream",
          "name": "stdout",
          "text": [
            "epoch: 0  loss: 1.002701321852839  params: [0.08926571 0.57151009 0.53724639]  gradients: [0.02702497690464143, 0.02331553076020904, 0.05084159762007341]\n"
          ]
        },
        {
          "output_type": "execute_result",
          "data": {
            "text/plain": [
              "array([-0.62121797,  0.5716753 , -0.40404543])"
            ]
          },
          "metadata": {},
          "execution_count": 31
        }
      ],
      "source": [
        "new_param_mgd = gradient_descent(X_train, y_train, batch_size = 32)\n",
        "new_param_mgd"
      ]
    },
    {
      "cell_type": "markdown",
      "metadata": {
        "id": "k0oCaZ0tLMa-"
      },
      "source": [
        "### Predict Label"
      ]
    },
    {
      "cell_type": "code",
      "execution_count": 32,
      "metadata": {
        "id": "syJE3oiNLMa-"
      },
      "outputs": [],
      "source": [
        "y_predict = []\n",
        "for i in range(len(y_test)):\n",
        "    p = logistic(X_test.iloc[i,:], new_param_bgd)\n",
        "    if p> 0.5 :\n",
        "        y_predict.append(1)\n",
        "    else :\n",
        "        y_predict.append(0)\n",
        "y_predict_random = []\n",
        "for i in range(len(y_test)):\n",
        "    p = logistic(X_test.iloc[i,:], random_parameters)\n",
        "    if p> 0.5 :\n",
        "        y_predict_random.append(1)\n",
        "    else :\n",
        "        y_predict_random.append(0)"
      ]
    },
    {
      "cell_type": "markdown",
      "metadata": {
        "id": "pZKpFItfLMa-"
      },
      "source": [
        "### Confusion Matrix"
      ]
    },
    {
      "cell_type": "code",
      "execution_count": 33,
      "metadata": {
        "id": "W4E1PgX5LMa-"
      },
      "outputs": [],
      "source": [
        "from sklearn.metrics import *"
      ]
    },
    {
      "cell_type": "code",
      "execution_count": 34,
      "metadata": {
        "id": "-veTwxu4LMa-",
        "colab": {
          "base_uri": "https://localhost:8080/"
        },
        "outputId": "bd7eb0af-958e-444e-e55c-78d7edfc2a44"
      },
      "outputs": [
        {
          "output_type": "execute_result",
          "data": {
            "text/plain": [
              "array([[38,  2],\n",
              "       [ 4,  6]])"
            ]
          },
          "metadata": {},
          "execution_count": 34
        }
      ],
      "source": [
        "tn, fp, fn, tp = confusion_matrix(y_test, y_predict).ravel()\n",
        "confusion_matrix(y_test, y_predict)"
      ]
    },
    {
      "cell_type": "code",
      "execution_count": 35,
      "metadata": {
        "id": "h4_dW9rDLMa_",
        "colab": {
          "base_uri": "https://localhost:8080/"
        },
        "outputId": "fac7cbc0-368e-45bb-8d48-c28ed457dc0d"
      },
      "outputs": [
        {
          "output_type": "stream",
          "name": "stdout",
          "text": [
            "accuracy: 0.88\n"
          ]
        }
      ],
      "source": [
        "accuracy = (tp+tn) / (tp+fn+fp+tn)\n",
        "print(\"accuracy:\",accuracy)"
      ]
    },
    {
      "cell_type": "markdown",
      "metadata": {
        "id": "XIgqa85aLMa_"
      },
      "source": [
        "## Linear regression\n",
        "### $y = 0.5 + 2.7x$"
      ]
    },
    {
      "cell_type": "markdown",
      "metadata": {
        "id": "qYeIg9QNLMa_"
      },
      "source": [
        "### Data"
      ]
    },
    {
      "cell_type": "code",
      "execution_count": 36,
      "metadata": {
        "id": "nv8-yhszLMa_"
      },
      "outputs": [],
      "source": [
        "raw_X = np.random.rand(150)\n",
        "y = 2.7*raw_X + 0.5 + np.random.randn(150)"
      ]
    },
    {
      "cell_type": "code",
      "execution_count": 37,
      "metadata": {
        "id": "07XtxLGWLMa_"
      },
      "outputs": [],
      "source": [
        "tmp = np.array([1 for _ in range(150)])\n",
        "X = np.vstack((tmp, raw_X)).T\n",
        "X = pd.DataFrame(X)\n",
        "y = pd.Series(y)"
      ]
    },
    {
      "cell_type": "markdown",
      "metadata": {
        "id": "6oENC02TLMa_"
      },
      "source": [
        "### Estimation"
      ]
    },
    {
      "cell_type": "code",
      "execution_count": 38,
      "metadata": {
        "id": "fu578YrKLMa_",
        "colab": {
          "base_uri": "https://localhost:8080/"
        },
        "outputId": "fb0a3ec3-53a9-45d4-e8d7-d1362620a511"
      },
      "outputs": [
        {
          "output_type": "execute_result",
          "data": {
            "text/plain": [
              "array([0.40852655, 2.57193838])"
            ]
          },
          "metadata": {},
          "execution_count": 38
        }
      ],
      "source": [
        "#정규방정식\n",
        "theta = np.linalg.inv(np.dot(X.T,X)).dot(X.T).dot(y)\n",
        "theta"
      ]
    },
    {
      "cell_type": "code",
      "execution_count": 39,
      "metadata": {
        "id": "M74iqj4WLMa_",
        "colab": {
          "base_uri": "https://localhost:8080/"
        },
        "outputId": "3809ef97-ec6b-42c6-a4cc-34cb25145eff"
      },
      "outputs": [
        {
          "output_type": "stream",
          "name": "stdout",
          "text": [
            "epoch: 0  loss: 1.753292926539518  params: [1.1397201 0.780231 ]  gradients: [0.03609488569865823, -0.03593033540755083]\n",
            "epoch: 100  loss: 0.998526917059197  params: [0.26163708 2.75681466]  gradients: [0.05382574967104133, -0.0004613696413915476]\n",
            "epoch: 200  loss: 0.9983388338563253  params: [0.26129221 2.75746577]  gradients: [0.05382521886830297, -0.00045301526030028976]\n",
            "epoch: 300  loss: 0.9983387696632411  params: [0.26129209 2.757466  ]  gradients: [0.05382521868711238, -0.0004530124085160292]\n",
            "epoch: 400  loss: 0.9983387696413288  params: [0.26129209 2.757466  ]  gradients: [0.05382521868705054, -0.00045301240754256716]\n",
            "epoch: 500  loss: 0.9983387696413212  params: [0.26129209 2.757466  ]  gradients: [0.05382521868705053, -0.00045301240754222667]\n",
            "epoch: 600  loss: 0.9983387696413212  params: [0.26129209 2.757466  ]  gradients: [0.05382521868705053, -0.00045301240754222667]\n",
            "epoch: 700  loss: 0.9983387696413212  params: [0.26129209 2.757466  ]  gradients: [0.05382521868705053, -0.00045301240754222667]\n",
            "epoch: 800  loss: 0.9983387696413212  params: [0.26129209 2.757466  ]  gradients: [0.05382521868705053, -0.00045301240754222667]\n",
            "epoch: 900  loss: 0.9983387696413212  params: [0.26129209 2.757466  ]  gradients: [0.05382521868705053, -0.00045301240754222667]\n"
          ]
        },
        {
          "output_type": "execute_result",
          "data": {
            "text/plain": [
              "array([0.26129209, 2.757466  ])"
            ]
          },
          "metadata": {},
          "execution_count": 39
        }
      ],
      "source": [
        "#경사하강법\n",
        "new_param = gradient_descent(X, y, model='linear')\n",
        "new_param"
      ]
    },
    {
      "cell_type": "code",
      "execution_count": 40,
      "metadata": {
        "id": "Ii3zBOwSLMa_"
      },
      "outputs": [],
      "source": [
        "y_hat_NE = theta.dot(X.T)\n",
        "y_hat_GD = new_param.dot(X.T)"
      ]
    },
    {
      "cell_type": "markdown",
      "metadata": {
        "id": "oCVynFSPLMbA"
      },
      "source": [
        "### Visualization\n",
        "시각화를 통해 정규방정식과 경사하강법을 통한 선형회귀를 비교해보세요  \n",
        "(밑의 코드를 실행만 시키면 됩니다. 추가 코드 x)"
      ]
    },
    {
      "cell_type": "code",
      "execution_count": 41,
      "metadata": {
        "id": "UoEACrbYLMbA",
        "colab": {
          "base_uri": "https://localhost:8080/",
          "height": 265
        },
        "outputId": "e5ef76db-b0a9-41be-878a-8adc1954d338"
      },
      "outputs": [
        {
          "output_type": "display_data",
          "data": {
            "image/png": "[encoded data removed]",
            "text/plain": [
              "<Figure size 432x288 with 1 Axes>"
            ]
          },
          "metadata": {
            "needs_background": "light"
          }
        }
      ],
      "source": [
        "import matplotlib.pyplot as plt\n",
        "plt.plot(X.iloc[:,1], y, '.k') #산점도\n",
        "plt.plot(X.iloc[:,1], y_hat_NE, '-b', label = 'NE') #정규방정식\n",
        "plt.plot(X.iloc[:,1], y_hat_GD, '-r', label = 'GD') #경사하강법\n",
        "plt.legend()\n",
        "plt.show()"
      ]
    },
    {
      "cell_type": "markdown",
      "source": [
        "# XGBRegressor bayesian-optimization"
      ],
      "metadata": {
        "id": "PQDMqv6SP_a2"
      }
    },
    {
      "cell_type": "code",
      "source": [
        "import scipy.optimize as optimize\n",
        "!pip install --target=$my_path bayesian-optimization\n",
        "from bayes_opt import BayesianOptimization\n"
      ],
      "metadata": {
        "colab": {
          "base_uri": "https://localhost:8080/"
        },
        "id": "MYLyWey1PFyv",
        "outputId": "df814b52-31d2-49fc-b6d7-7060cc014e25"
      },
      "execution_count": 45,
      "outputs": [
        {
          "output_type": "stream",
          "name": "stdout",
          "text": [
            "Requirement already satisfied: bayesian-optimization in /usr/local/lib/python3.7/dist-packages (1.2.0)\n",
            "Requirement already satisfied: scikit-learn>=0.18.0 in /usr/local/lib/python3.7/dist-packages (from bayesian-optimization) (1.0.2)\n",
            "Requirement already satisfied: numpy>=1.9.0 in /usr/local/lib/python3.7/dist-packages (from bayesian-optimization) (1.19.5)\n",
            "Requirement already satisfied: scipy>=0.14.0 in /usr/local/lib/python3.7/dist-packages (from bayesian-optimization) (1.4.1)\n",
            "Requirement already satisfied: joblib>=0.11 in /usr/local/lib/python3.7/dist-packages (from scikit-learn>=0.18.0->bayesian-optimization) (1.1.0)\n",
            "Requirement already satisfied: threadpoolctl>=2.0.0 in /usr/local/lib/python3.7/dist-packages (from scikit-learn>=0.18.0->bayesian-optimization) (3.1.0)\n"
          ]
        }
      ]
    },
    {
      "cell_type": "code",
      "source": [
        "from sklearn.metrics import r2_score, mean_squared_error\n",
        "import xgboost as xgb\n",
        "\n",
        "# MAPE Metric\n",
        "def mean_absolute_percentage_error(y_test, y_pred):\n",
        "    y_test, y_pred = np.array(y_test), np.array(y_pred)\n",
        "    return np.mean(np.abs((y_test - y_pred) / y_test)) * 100\n",
        "\n",
        "# 탐색 대상 함수 (XGBRegressor)\n",
        "def XGB_cv(max_depth,learning_rate, n_estimators, gamma\n",
        "            ,min_child_weight, subsample\n",
        "            ,colsample_bytree, silent=True, nthread=-1):\n",
        "\n",
        "    # 모델 정의\n",
        "    model = xgb.XGBRegressor(max_depth=int(max_depth),\n",
        "                            learning_rate=learning_rate,\n",
        "                            n_estimators=int(n_estimators),\n",
        "                            gamma=gamma,\n",
        "                            min_child_weight=min_child_weight,\n",
        "                            subsample=subsample,\n",
        "                            colsample_bytree=colsample_bytree, \n",
        "                            nthread=nthread\n",
        "                            )\n",
        "    # 모델 훈련\n",
        "    model.fit(X_train, y_train)\n",
        "\n",
        "    # 예측값 출력\n",
        "    y_pred= model.predict(X_test)\n",
        "\n",
        "    # 각종 metric 계산\n",
        "    rmse = np.sqrt(mean_squared_error(y_test, y_pred))\n",
        "    r2 = r2_score(y_test, y_pred)\n",
        "    mape = mean_absolute_percentage_error(y_test, y_pred)\n",
        "\n",
        "    # 오차 최적화로 사용할 metric 반환\n",
        "    return r2"
      ],
      "metadata": {
        "id": "cb7HugLeP-5W"
      },
      "execution_count": 51,
      "outputs": []
    },
    {
      "cell_type": "code",
      "execution_count": 53,
      "metadata": {
        "id": "ijgIcAdGLMbA",
        "colab": {
          "base_uri": "https://localhost:8080/"
        },
        "outputId": "4881dbae-4e0a-4d19-d8e2-05be0a0b1124"
      },
      "outputs": [
        {
          "output_type": "stream",
          "name": "stdout",
          "text": [
            "|   iter    |  target   | colsam... |   gamma   | learni... | max_depth | min_ch... | n_esti... | subsample |\n",
            "-------------------------------------------------------------------------------------------------------------\n",
            "[07:37:53] WARNING: /workspace/src/objective/regression_obj.cu:152: reg:linear is now deprecated in favor of reg:squarederror.\n"
          ]
        },
        {
          "output_type": "stream",
          "name": "stderr",
          "text": [
            "/usr/local/lib/python3.7/dist-packages/ipykernel_launcher.py:7: RuntimeWarning: divide by zero encountered in true_divide\n",
            "  import sys\n"
          ]
        },
        {
          "output_type": "stream",
          "name": "stdout",
          "text": [
            "| \u001b[0m 1       \u001b[0m | \u001b[0m-0.04301 \u001b[0m | \u001b[0m 0.5336  \u001b[0m | \u001b[0m 72.03   \u001b[0m | \u001b[0m 0.01002 \u001b[0m | \u001b[0m 4.209   \u001b[0m | \u001b[0m 0.4403  \u001b[0m | \u001b[0m 5.462e+0\u001b[0m | \u001b[0m 0.5931  \u001b[0m |\n",
            "[07:37:54] WARNING: /workspace/src/objective/regression_obj.cu:152: reg:linear is now deprecated in favor of reg:squarederror.\n"
          ]
        },
        {
          "output_type": "stream",
          "name": "stderr",
          "text": [
            "/usr/local/lib/python3.7/dist-packages/ipykernel_launcher.py:7: RuntimeWarning: divide by zero encountered in true_divide\n",
            "  import sys\n"
          ]
        },
        {
          "output_type": "stream",
          "name": "stdout",
          "text": [
            "| \u001b[95m 2       \u001b[0m | \u001b[95m-0.04207 \u001b[0m | \u001b[95m 0.4764  \u001b[0m | \u001b[95m 39.68   \u001b[0m | \u001b[95m 0.1124  \u001b[0m | \u001b[95m 4.677   \u001b[0m | \u001b[95m 2.056   \u001b[0m | \u001b[95m 6.022e+0\u001b[0m | \u001b[95m 0.9391  \u001b[0m |\n",
            "[07:37:56] WARNING: /workspace/src/objective/regression_obj.cu:152: reg:linear is now deprecated in favor of reg:squarederror.\n"
          ]
        },
        {
          "output_type": "stream",
          "name": "stderr",
          "text": [
            "/usr/local/lib/python3.7/dist-packages/ipykernel_launcher.py:7: RuntimeWarning: divide by zero encountered in true_divide\n",
            "  import sys\n"
          ]
        },
        {
          "output_type": "stream",
          "name": "stdout",
          "text": [
            "| \u001b[0m 3       \u001b[0m | \u001b[0m-0.04309 \u001b[0m | \u001b[0m 0.6733  \u001b[0m | \u001b[0m 41.85   \u001b[0m | \u001b[0m 0.1345  \u001b[0m | \u001b[0m 3.371   \u001b[0m | \u001b[0m 2.795   \u001b[0m | \u001b[0m 6.022e+0\u001b[0m | \u001b[0m 0.9493  \u001b[0m |\n",
            "[07:37:57] WARNING: /workspace/src/objective/regression_obj.cu:152: reg:linear is now deprecated in favor of reg:squarederror.\n"
          ]
        },
        {
          "output_type": "stream",
          "name": "stderr",
          "text": [
            "/usr/local/lib/python3.7/dist-packages/ipykernel_launcher.py:7: RuntimeWarning: divide by zero encountered in true_divide\n",
            "  import sys\n"
          ]
        },
        {
          "output_type": "stream",
          "name": "stdout",
          "text": [
            "| \u001b[0m 4       \u001b[0m | \u001b[0m-0.04347 \u001b[0m | \u001b[0m 0.8121  \u001b[0m | \u001b[0m 10.95   \u001b[0m | \u001b[0m 0.1092  \u001b[0m | \u001b[0m 6.073   \u001b[0m | \u001b[0m 2.061   \u001b[0m | \u001b[0m 5.665e+0\u001b[0m | \u001b[0m 0.601   \u001b[0m |\n",
            "[07:37:58] WARNING: /workspace/src/objective/regression_obj.cu:152: reg:linear is now deprecated in favor of reg:squarederror.\n"
          ]
        },
        {
          "output_type": "stream",
          "name": "stderr",
          "text": [
            "/usr/local/lib/python3.7/dist-packages/ipykernel_launcher.py:7: RuntimeWarning: divide by zero encountered in true_divide\n",
            "  import sys\n"
          ]
        },
        {
          "output_type": "stream",
          "name": "stdout",
          "text": [
            "| \u001b[95m 5       \u001b[0m | \u001b[95m-0.02713 \u001b[0m | \u001b[95m 0.972   \u001b[0m | \u001b[95m 6.63    \u001b[0m | \u001b[95m 0.01992 \u001b[0m | \u001b[95m 5.446   \u001b[0m | \u001b[95m 1.737   \u001b[0m | \u001b[95m 9.304e+0\u001b[0m | \u001b[95m 0.7013  \u001b[0m |\n",
            "[07:37:59] WARNING: /workspace/src/objective/regression_obj.cu:152: reg:linear is now deprecated in favor of reg:squarederror.\n"
          ]
        },
        {
          "output_type": "stream",
          "name": "stderr",
          "text": [
            "/usr/local/lib/python3.7/dist-packages/ipykernel_launcher.py:7: RuntimeWarning: divide by zero encountered in true_divide\n",
            "  import sys\n"
          ]
        },
        {
          "output_type": "stream",
          "name": "stdout",
          "text": [
            "| \u001b[0m 6       \u001b[0m | \u001b[0m-0.03934 \u001b[0m | \u001b[0m 0.9106  \u001b[0m | \u001b[0m 18.97   \u001b[0m | \u001b[0m 0.04206 \u001b[0m | \u001b[0m 6.594   \u001b[0m | \u001b[0m 2.846   \u001b[0m | \u001b[0m 9.287e+0\u001b[0m | \u001b[0m 0.6635  \u001b[0m |\n",
            "[07:38:00] WARNING: /workspace/src/objective/regression_obj.cu:152: reg:linear is now deprecated in favor of reg:squarederror.\n"
          ]
        },
        {
          "output_type": "stream",
          "name": "stderr",
          "text": [
            "/usr/local/lib/python3.7/dist-packages/ipykernel_launcher.py:7: RuntimeWarning: divide by zero encountered in true_divide\n",
            "  import sys\n"
          ]
        },
        {
          "output_type": "stream",
          "name": "stdout",
          "text": [
            "| \u001b[0m 7       \u001b[0m | \u001b[0m-0.0423  \u001b[0m | \u001b[0m 0.6633  \u001b[0m | \u001b[0m 16.77   \u001b[0m | \u001b[0m 0.1443  \u001b[0m | \u001b[0m 3.372   \u001b[0m | \u001b[0m 1.505   \u001b[0m | \u001b[0m 9.316e+0\u001b[0m | \u001b[0m 0.9553  \u001b[0m |\n",
            "[07:38:01] WARNING: /workspace/src/objective/regression_obj.cu:152: reg:linear is now deprecated in favor of reg:squarederror.\n"
          ]
        },
        {
          "output_type": "stream",
          "name": "stderr",
          "text": [
            "/usr/local/lib/python3.7/dist-packages/ipykernel_launcher.py:7: RuntimeWarning: divide by zero encountered in true_divide\n",
            "  import sys\n"
          ]
        },
        {
          "output_type": "stream",
          "name": "stdout",
          "text": [
            "| \u001b[95m 8       \u001b[0m | \u001b[95m 0.009389\u001b[0m | \u001b[95m 0.7361  \u001b[0m | \u001b[95m 5.031   \u001b[0m | \u001b[95m 0.05488 \u001b[0m | \u001b[95m 3.791   \u001b[0m | \u001b[95m 1.871   \u001b[0m | \u001b[95m 9.297e+0\u001b[0m | \u001b[95m 0.5335  \u001b[0m |\n",
            "[07:38:02] WARNING: /workspace/src/objective/regression_obj.cu:152: reg:linear is now deprecated in favor of reg:squarederror.\n"
          ]
        },
        {
          "output_type": "stream",
          "name": "stderr",
          "text": [
            "/usr/local/lib/python3.7/dist-packages/ipykernel_launcher.py:7: RuntimeWarning: divide by zero encountered in true_divide\n",
            "  import sys\n"
          ]
        },
        {
          "output_type": "stream",
          "name": "stdout",
          "text": [
            "| \u001b[95m 9       \u001b[0m | \u001b[95m 0.04269 \u001b[0m | \u001b[95m 0.723   \u001b[0m | \u001b[95m 4.026   \u001b[0m | \u001b[95m 0.1385  \u001b[0m | \u001b[95m 4.154   \u001b[0m | \u001b[95m 1.298   \u001b[0m | \u001b[95m 9.292e+0\u001b[0m | \u001b[95m 0.948   \u001b[0m |\n",
            "[07:38:03] WARNING: /workspace/src/objective/regression_obj.cu:152: reg:linear is now deprecated in favor of reg:squarederror.\n"
          ]
        },
        {
          "output_type": "stream",
          "name": "stderr",
          "text": [
            "/usr/local/lib/python3.7/dist-packages/ipykernel_launcher.py:7: RuntimeWarning: divide by zero encountered in true_divide\n",
            "  import sys\n"
          ]
        },
        {
          "output_type": "stream",
          "name": "stdout",
          "text": [
            "| \u001b[0m 10      \u001b[0m | \u001b[0m-0.04151 \u001b[0m | \u001b[0m 0.5386  \u001b[0m | \u001b[0m 5.152   \u001b[0m | \u001b[0m 0.07308 \u001b[0m | \u001b[0m 5.486   \u001b[0m | \u001b[0m 1.332   \u001b[0m | \u001b[0m 9.284e+0\u001b[0m | \u001b[0m 0.9682  \u001b[0m |\n",
            "[07:38:04] WARNING: /workspace/src/objective/regression_obj.cu:152: reg:linear is now deprecated in favor of reg:squarederror.\n"
          ]
        },
        {
          "output_type": "stream",
          "name": "stderr",
          "text": [
            "/usr/local/lib/python3.7/dist-packages/ipykernel_launcher.py:7: RuntimeWarning: divide by zero encountered in true_divide\n",
            "  import sys\n"
          ]
        },
        {
          "output_type": "stream",
          "name": "stdout",
          "text": [
            "| \u001b[0m 11      \u001b[0m | \u001b[0m 0.04173 \u001b[0m | \u001b[0m 0.8386  \u001b[0m | \u001b[0m 4.601   \u001b[0m | \u001b[0m 0.07387 \u001b[0m | \u001b[0m 4.655   \u001b[0m | \u001b[0m 1.65    \u001b[0m | \u001b[0m 9.294e+0\u001b[0m | \u001b[0m 0.6387  \u001b[0m |\n",
            "[07:38:06] WARNING: /workspace/src/objective/regression_obj.cu:152: reg:linear is now deprecated in favor of reg:squarederror.\n",
            "| \u001b[95m 12      \u001b[0m | \u001b[95m 0.3147  \u001b[0m | \u001b[95m 0.2658  \u001b[0m | \u001b[95m 0.843   \u001b[0m | \u001b[95m 0.1685  \u001b[0m | \u001b[95m 5.718   \u001b[0m | \u001b[95m 0.6839  \u001b[0m | \u001b[95m 9.29e+03\u001b[0m | \u001b[95m 0.6688  \u001b[0m |\n",
            "=============================================================================================================\n",
            "{'target': 0.31474291590046344, 'params': {'colsample_bytree': 0.26576731529566366, 'gamma': 0.8430419661490385, 'learning_rate': 0.16845325872457734, 'max_depth': 5.718320649403493, 'min_child_weight': 0.6838853118379273, 'n_estimators': 9289.851501706646, 'subsample': 0.6687764759180062}}\n"
          ]
        },
        {
          "output_type": "stream",
          "name": "stderr",
          "text": [
            "/usr/local/lib/python3.7/dist-packages/ipykernel_launcher.py:7: RuntimeWarning: divide by zero encountered in true_divide\n",
            "  import sys\n"
          ]
        }
      ],
      "source": [
        "#  bayesian-optimization 라이브러리의 BayesianOptimization 클래스 import\n",
        "from bayes_opt import BayesianOptimization\n",
        "import numpy as np\n",
        "\n",
        "# 실험해보고자하는 hyperparameter 집합\n",
        "pbounds = {'max_depth': (3, 7),\n",
        "            'learning_rate': (0.01, 0.2),\n",
        "            'n_estimators': (5000, 10000),\n",
        "            'gamma': (0, 100),\n",
        "            'min_child_weight': (0, 3),\n",
        "            'subsample': (0.5, 1),\n",
        "            'colsample_bytree' :(0.2, 1)\n",
        "            }\n",
        "\n",
        "# Bayesian optimization 객체 생성\n",
        "# f : 탐색 대상 함수, pbounds : hyperparameter 집합\n",
        "# verbose = 2 항상 출력, verbose = 1 최댓값일 때 출력, verbose = 0 출력 안함\n",
        "# random_state : Bayesian Optimization 상의 랜덤성이 존재하는 부분을 통제 \n",
        "bo=BayesianOptimization(f=XGB_cv, pbounds=pbounds, verbose=2, random_state=1 )    \n",
        "\n",
        "# 메소드를 이용해 최대화 과정 수행\n",
        "# init_points :  초기 Random Search 갯수\n",
        "# n_iter : 반복 횟수 (몇개의 입력값-함숫값 점들을 확인할지! 많을 수록 정확한 값을 얻을 수 있다.)\n",
        "# acq : Acquisition Function들 중 Expected Improvement(EI) 를 사용\n",
        "# xi : exploration 강도 (기본값은 0.0)\n",
        "bo.maximize(init_points=2, n_iter=10, acq='ei', xi=0.01)\n",
        "\n",
        "# ‘iter’는 반복 회차, ‘target’은 목적 함수의 값, 나머지는 입력값을 나타냅니다. \n",
        "# 현재 회차 이전까지 조사된 함숫값들과 비교하여, 현재 회차에 최댓값이 얻어진 경우, \n",
        "# bayesian-optimization 라이브러리는 이를 자동으로 다른 색 글자로 표시하는 것을 확인할 수 있습니다\n",
        "\n",
        "# 찾은 파라미터 값 확인\n",
        "print(bo.max)"
      ]
    }
  ],
  "metadata": {
    "colab": {
      "name": "wk2_optimization_assignment.ipynb",
      "provenance": [],
      "collapsed_sections": [
        "QINz-EAKLMa4",
        "9S9fk1UTLMa8"
      ],
      "include_colab_link": true
    },
    "kernelspec": {
      "display_name": "Python 3",
      "language": "python",
      "name": "python3"
    },
    "language_info": {
      "codemirror_mode": {
        "name": "ipython",
        "version": 3
      },
      "file_extension": ".py",
      "mimetype": "text/x-python",
      "name": "python",
      "nbconvert_exporter": "python",
      "pygments_lexer": "ipython3",
      "version": "3.8.0"
    }
  },
  "nbformat": 4,
  "nbformat_minor": 0
}