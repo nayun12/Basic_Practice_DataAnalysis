{
  "cells": [
    {
      "cell_type": "markdown",
      "metadata": {
        "id": "view-in-github",
        "colab_type": "text"
      },
      "source": [
        "<a href=\"https://colab.research.google.com/github/nayun12/Tobigs_17/blob/main/week5_dimensionality_reduction_assignment1.ipynb\" target=\"_parent\"><img src=\"https://colab.research.google.com/assets/colab-badge.svg\" alt=\"Open In Colab\"/></a>"
      ]
    },
    {
      "cell_type": "markdown",
      "metadata": {
        "id": "bNU1aVY_MItf"
      },
      "source": [
        "# 차원축소 Assignment1"
      ]
    },
    {
      "cell_type": "markdown",
      "metadata": {
        "id": "J8mCDACEMIth"
      },
      "source": [
        "## 1) PCA의 과정 차근차근 밟아보기"
      ]
    },
    {
      "cell_type": "code",
      "execution_count": null,
      "metadata": {
        "id": "WVJQoe7dMIti"
      },
      "outputs": [],
      "source": [
        "#기본 모듈 불러오기\n",
        "import numpy as np\n",
        "import numpy.linalg as lin\n",
        "import matplotlib.pyplot as plt\n",
        "import pandas as pd\n",
        "import random"
      ]
    },
    {
      "cell_type": "code",
      "execution_count": null,
      "metadata": {
        "id": "OpsXAmMcMIti"
      },
      "outputs": [],
      "source": [
        "#설명변수 x1, x2, x3\n",
        "x1 = [95, 91, 66, 94, 68, 63, 12, 73, 93, 51, 13, 70, 63, 63, 97, 56, 67, 96, 75, 6]\n",
        "x2 = [56, 27, 25, 1, 9, 80, 92, 69, 6, 25, 83, 82, 54, 97, 66, 93, 76, 59, 94, 9]\n",
        "x3 = [57, 34, 9, 79, 4, 77, 100, 42, 6, 96, 61, 66, 9, 25, 84, 46, 16, 63, 53, 30]"
      ]
    },
    {
      "cell_type": "code",
      "execution_count": null,
      "metadata": {
        "id": "OvRICL-YMItj"
      },
      "outputs": [],
      "source": [
        "#   설명변수들을 하나의 행렬로\n",
        "X = np.stack((x1,x2,x3),axis=0)"
      ]
    },
    {
      "cell_type": "code",
      "execution_count": null,
      "metadata": {
        "id": "lQMl-PAcMItj"
      },
      "outputs": [],
      "source": [
        "X = pd.DataFrame(X.T,columns=['x1','x2','x3'])"
      ]
    },
    {
      "cell_type": "code",
      "execution_count": null,
      "metadata": {
        "colab": {
          "base_uri": "https://localhost:8080/",
          "height": 677
        },
        "id": "I0B9NofcMItj",
        "outputId": "8475e2e8-9eff-4e8f-b4e2-bf22e139950a"
      },
      "outputs": [
        {
          "output_type": "execute_result",
          "data": {
            "text/html": [
              "\n",
              "  <div id=\"df-d28fb9c3-6909-4162-9deb-bd4b42a73d7c\">\n",
              "    <div class=\"colab-df-container\">\n",
              "      <div>\n",
              "<style scoped>\n",
              "    .dataframe tbody tr th:only-of-type {\n",
              "        vertical-align: middle;\n",
              "    }\n",
              "\n",
              "    .dataframe tbody tr th {\n",
              "        vertical-align: top;\n",
              "    }\n",
              "\n",
              "    .dataframe thead th {\n",
              "        text-align: right;\n",
              "    }\n",
              "</style>\n",
              "<table border=\"1\" class=\"dataframe\">\n",
              "  <thead>\n",
              "    <tr style=\"text-align: right;\">\n",
              "      <th></th>\n",
              "      <th>x1</th>\n",
              "      <th>x2</th>\n",
              "      <th>x3</th>\n",
              "    </tr>\n",
              "  </thead>\n",
              "  <tbody>\n",
              "    <tr>\n",
              "      <th>0</th>\n",
              "      <td>95</td>\n",
              "      <td>56</td>\n",
              "      <td>57</td>\n",
              "    </tr>\n",
              "    <tr>\n",
              "      <th>1</th>\n",
              "      <td>91</td>\n",
              "      <td>27</td>\n",
              "      <td>34</td>\n",
              "    </tr>\n",
              "    <tr>\n",
              "      <th>2</th>\n",
              "      <td>66</td>\n",
              "      <td>25</td>\n",
              "      <td>9</td>\n",
              "    </tr>\n",
              "    <tr>\n",
              "      <th>3</th>\n",
              "      <td>94</td>\n",
              "      <td>1</td>\n",
              "      <td>79</td>\n",
              "    </tr>\n",
              "    <tr>\n",
              "      <th>4</th>\n",
              "      <td>68</td>\n",
              "      <td>9</td>\n",
              "      <td>4</td>\n",
              "    </tr>\n",
              "    <tr>\n",
              "      <th>5</th>\n",
              "      <td>63</td>\n",
              "      <td>80</td>\n",
              "      <td>77</td>\n",
              "    </tr>\n",
              "    <tr>\n",
              "      <th>6</th>\n",
              "      <td>12</td>\n",
              "      <td>92</td>\n",
              "      <td>100</td>\n",
              "    </tr>\n",
              "    <tr>\n",
              "      <th>7</th>\n",
              "      <td>73</td>\n",
              "      <td>69</td>\n",
              "      <td>42</td>\n",
              "    </tr>\n",
              "    <tr>\n",
              "      <th>8</th>\n",
              "      <td>93</td>\n",
              "      <td>6</td>\n",
              "      <td>6</td>\n",
              "    </tr>\n",
              "    <tr>\n",
              "      <th>9</th>\n",
              "      <td>51</td>\n",
              "      <td>25</td>\n",
              "      <td>96</td>\n",
              "    </tr>\n",
              "    <tr>\n",
              "      <th>10</th>\n",
              "      <td>13</td>\n",
              "      <td>83</td>\n",
              "      <td>61</td>\n",
              "    </tr>\n",
              "    <tr>\n",
              "      <th>11</th>\n",
              "      <td>70</td>\n",
              "      <td>82</td>\n",
              "      <td>66</td>\n",
              "    </tr>\n",
              "    <tr>\n",
              "      <th>12</th>\n",
              "      <td>63</td>\n",
              "      <td>54</td>\n",
              "      <td>9</td>\n",
              "    </tr>\n",
              "    <tr>\n",
              "      <th>13</th>\n",
              "      <td>63</td>\n",
              "      <td>97</td>\n",
              "      <td>25</td>\n",
              "    </tr>\n",
              "    <tr>\n",
              "      <th>14</th>\n",
              "      <td>97</td>\n",
              "      <td>66</td>\n",
              "      <td>84</td>\n",
              "    </tr>\n",
              "    <tr>\n",
              "      <th>15</th>\n",
              "      <td>56</td>\n",
              "      <td>93</td>\n",
              "      <td>46</td>\n",
              "    </tr>\n",
              "    <tr>\n",
              "      <th>16</th>\n",
              "      <td>67</td>\n",
              "      <td>76</td>\n",
              "      <td>16</td>\n",
              "    </tr>\n",
              "    <tr>\n",
              "      <th>17</th>\n",
              "      <td>96</td>\n",
              "      <td>59</td>\n",
              "      <td>63</td>\n",
              "    </tr>\n",
              "    <tr>\n",
              "      <th>18</th>\n",
              "      <td>75</td>\n",
              "      <td>94</td>\n",
              "      <td>53</td>\n",
              "    </tr>\n",
              "    <tr>\n",
              "      <th>19</th>\n",
              "      <td>6</td>\n",
              "      <td>9</td>\n",
              "      <td>30</td>\n",
              "    </tr>\n",
              "  </tbody>\n",
              "</table>\n",
              "</div>\n",
              "      <button class=\"colab-df-convert\" onclick=\"convertToInteractive('df-d28fb9c3-6909-4162-9deb-bd4b42a73d7c')\"\n",
              "              title=\"Convert this dataframe to an interactive table.\"\n",
              "              style=\"display:none;\">\n",
              "        \n",
              "  <svg xmlns=\"http://www.w3.org/2000/svg\" height=\"24px\"viewBox=\"0 0 24 24\"\n",
              "       width=\"24px\">\n",
              "    <path d=\"M0 0h24v24H0V0z\" fill=\"none\"/>\n",
              "    <path d=\"M18.56 5.44l.94 2.06.94-2.06 2.06-.94-2.06-.94-.94-2.06-.94 2.06-2.06.94zm-11 1L8.5 8.5l.94-2.06 2.06-.94-2.06-.94L8.5 2.5l-.94 2.06-2.06.94zm10 10l.94 2.06.94-2.06 2.06-.94-2.06-.94-.94-2.06-.94 2.06-2.06.94z\"/><path d=\"M17.41 7.96l-1.37-1.37c-.4-.4-.92-.59-1.43-.59-.52 0-1.04.2-1.43.59L10.3 9.45l-7.72 7.72c-.78.78-.78 2.05 0 2.83L4 21.41c.39.39.9.59 1.41.59.51 0 1.02-.2 1.41-.59l7.78-7.78 2.81-2.81c.8-.78.8-2.07 0-2.86zM5.41 20L4 18.59l7.72-7.72 1.47 1.35L5.41 20z\"/>\n",
              "  </svg>\n",
              "      </button>\n",
              "      \n",
              "  <style>\n",
              "    .colab-df-container {\n",
              "      display:flex;\n",
              "      flex-wrap:wrap;\n",
              "      gap: 12px;\n",
              "    }\n",
              "\n",
              "    .colab-df-convert {\n",
              "      background-color: #E8F0FE;\n",
              "      border: none;\n",
              "      border-radius: 50%;\n",
              "      cursor: pointer;\n",
              "      display: none;\n",
              "      fill: #1967D2;\n",
              "      height: 32px;\n",
              "      padding: 0 0 0 0;\n",
              "      width: 32px;\n",
              "    }\n",
              "\n",
              "    .colab-df-convert:hover {\n",
              "      background-color: #E2EBFA;\n",
              "      box-shadow: 0px 1px 2px rgba(60, 64, 67, 0.3), 0px 1px 3px 1px rgba(60, 64, 67, 0.15);\n",
              "      fill: #174EA6;\n",
              "    }\n",
              "\n",
              "    [theme=dark] .colab-df-convert {\n",
              "      background-color: #3B4455;\n",
              "      fill: #D2E3FC;\n",
              "    }\n",
              "\n",
              "    [theme=dark] .colab-df-convert:hover {\n",
              "      background-color: #434B5C;\n",
              "      box-shadow: 0px 1px 3px 1px rgba(0, 0, 0, 0.15);\n",
              "      filter: drop-shadow(0px 1px 2px rgba(0, 0, 0, 0.3));\n",
              "      fill: #FFFFFF;\n",
              "    }\n",
              "  </style>\n",
              "\n",
              "      <script>\n",
              "        const buttonEl =\n",
              "          document.querySelector('#df-d28fb9c3-6909-4162-9deb-bd4b42a73d7c button.colab-df-convert');\n",
              "        buttonEl.style.display =\n",
              "          google.colab.kernel.accessAllowed ? 'block' : 'none';\n",
              "\n",
              "        async function convertToInteractive(key) {\n",
              "          const element = document.querySelector('#df-d28fb9c3-6909-4162-9deb-bd4b42a73d7c');\n",
              "          const dataTable =\n",
              "            await google.colab.kernel.invokeFunction('convertToInteractive',\n",
              "                                                     [key], {});\n",
              "          if (!dataTable) return;\n",
              "\n",
              "          const docLinkHtml = 'Like what you see? Visit the ' +\n",
              "            '<a target=\"_blank\" href=https://colab.research.google.com/notebooks/data_table.ipynb>data table notebook</a>'\n",
              "            + ' to learn more about interactive tables.';\n",
              "          element.innerHTML = '';\n",
              "          dataTable['output_type'] = 'display_data';\n",
              "          await google.colab.output.renderOutput(dataTable, element);\n",
              "          const docLink = document.createElement('div');\n",
              "          docLink.innerHTML = docLinkHtml;\n",
              "          element.appendChild(docLink);\n",
              "        }\n",
              "      </script>\n",
              "    </div>\n",
              "  </div>\n",
              "  "
            ],
            "text/plain": [
              "    x1  x2   x3\n",
              "0   95  56   57\n",
              "1   91  27   34\n",
              "2   66  25    9\n",
              "3   94   1   79\n",
              "4   68   9    4\n",
              "5   63  80   77\n",
              "6   12  92  100\n",
              "7   73  69   42\n",
              "8   93   6    6\n",
              "9   51  25   96\n",
              "10  13  83   61\n",
              "11  70  82   66\n",
              "12  63  54    9\n",
              "13  63  97   25\n",
              "14  97  66   84\n",
              "15  56  93   46\n",
              "16  67  76   16\n",
              "17  96  59   63\n",
              "18  75  94   53\n",
              "19   6   9   30"
            ]
          },
          "metadata": {},
          "execution_count": 5
        }
      ],
      "source": [
        "X"
      ]
    },
    {
      "cell_type": "markdown",
      "metadata": {
        "id": "mrTIq3b7MItk"
      },
      "source": [
        "### 1-1) 먼저 PCA를 시작하기 전 데이터 scaling!! 중요합니다!\n",
        "\n",
        "https://datascienceschool.net/03%20machine%20learning/02.01%20%EB%8D%B0%EC%9D%B4%ED%84%B0%20%EC%A0%84%EC%B2%98%EB%A6%AC%20%EA%B8%B0%EC%B4%88.html?highlight=%EC%A0%84%EC%B2%98%EB%A6%AC  를 참고하시면 도움이 될거에요"
      ]
    },
    {
      "cell_type": "code",
      "execution_count": null,
      "metadata": {
        "id": "lsQzrr_VMItk"
      },
      "outputs": [],
      "source": [
        "#scaling\n",
        "from sklearn.preprocessing import StandardScaler\n",
        "scaler =  StandardScaler()\n",
        "X_std = scaler.fit_transform(X) #sclaing 후 데이터\n"
      ]
    },
    {
      "cell_type": "code",
      "execution_count": null,
      "metadata": {
        "colab": {
          "base_uri": "https://localhost:8080/"
        },
        "id": "DoYFcpaXMItl",
        "outputId": "4ef83640-3ae9-4ac5-f05f-f5f1856e3993"
      },
      "outputs": [
        {
          "output_type": "execute_result",
          "data": {
            "text/plain": [
              "array([[ 1.08573604,  0.02614175,  0.30684189],\n",
              "       [ 0.93801686, -0.86575334, -0.46445467],\n",
              "       [ 0.01477192, -0.92726334, -1.30282049],\n",
              "       [ 1.04880625, -1.66538341,  1.04460382],\n",
              "       [ 0.08863151, -1.41934339, -1.47049366],\n",
              "       [-0.09601747,  0.76426183,  0.97753455],\n",
              "       [-1.97943714,  1.13332186,  1.74883111],\n",
              "       [ 0.2732805 ,  0.42595679, -0.1961776 ],\n",
              "       [ 1.01187645, -1.5116084 , -1.40342439],\n",
              "       [-0.53917504, -0.92726334,  1.61469258],\n",
              "       [-1.94250735,  0.85652683,  0.44098042],\n",
              "       [ 0.16249111,  0.82577183,  0.60865359],\n",
              "       [-0.09601747, -0.03536825, -1.30282049],\n",
              "       [-0.09601747,  1.28709688, -0.76626636],\n",
              "       [ 1.15959564,  0.33369178,  1.21227698],\n",
              "       [-0.35452606,  1.16407687, -0.06203907],\n",
              "       [ 0.05170172,  0.64124181, -1.06807806],\n",
              "       [ 1.12266584,  0.11840676,  0.50804969],\n",
              "       [ 0.3471401 ,  1.19483187,  0.17270336],\n",
              "       [-2.20101593, -1.41934339, -0.5985932 ]])"
            ]
          },
          "metadata": {},
          "execution_count": 7
        }
      ],
      "source": [
        "X_std"
      ]
    },
    {
      "cell_type": "code",
      "execution_count": null,
      "metadata": {
        "id": "E8dkFW6wMItl"
      },
      "outputs": [],
      "source": [
        "features = X_std.T"
      ]
    },
    {
      "cell_type": "code",
      "execution_count": null,
      "metadata": {
        "colab": {
          "base_uri": "https://localhost:8080/"
        },
        "id": "O4r-g2-ZMItm",
        "outputId": "1535a838-bce6-43d6-abb4-6945166b0769"
      },
      "outputs": [
        {
          "output_type": "execute_result",
          "data": {
            "text/plain": [
              "array([[ 1.08573604,  0.93801686,  0.01477192,  1.04880625,  0.08863151,\n",
              "        -0.09601747, -1.97943714,  0.2732805 ,  1.01187645, -0.53917504,\n",
              "        -1.94250735,  0.16249111, -0.09601747, -0.09601747,  1.15959564,\n",
              "        -0.35452606,  0.05170172,  1.12266584,  0.3471401 , -2.20101593],\n",
              "       [ 0.02614175, -0.86575334, -0.92726334, -1.66538341, -1.41934339,\n",
              "         0.76426183,  1.13332186,  0.42595679, -1.5116084 , -0.92726334,\n",
              "         0.85652683,  0.82577183, -0.03536825,  1.28709688,  0.33369178,\n",
              "         1.16407687,  0.64124181,  0.11840676,  1.19483187, -1.41934339],\n",
              "       [ 0.30684189, -0.46445467, -1.30282049,  1.04460382, -1.47049366,\n",
              "         0.97753455,  1.74883111, -0.1961776 , -1.40342439,  1.61469258,\n",
              "         0.44098042,  0.60865359, -1.30282049, -0.76626636,  1.21227698,\n",
              "        -0.06203907, -1.06807806,  0.50804969,  0.17270336, -0.5985932 ]])"
            ]
          },
          "metadata": {},
          "execution_count": 9
        }
      ],
      "source": [
        "features"
      ]
    },
    {
      "cell_type": "markdown",
      "metadata": {
        "id": "zFsTKxcPMItm"
      },
      "source": [
        "### 1-2) 다음으로 공분산 행렬을 구합니다\n",
        "\n",
        "https://docs.scipy.org/doc/numpy/reference/generated/numpy.cov.html 를 참고하시면 도움이 될거에요"
      ]
    },
    {
      "cell_type": "code",
      "execution_count": null,
      "metadata": {
        "scrolled": true,
        "id": "e8EKJ19-MItm"
      },
      "outputs": [],
      "source": [
        "cov_matrix = np.cov(features)"
      ]
    },
    {
      "cell_type": "code",
      "execution_count": null,
      "metadata": {
        "colab": {
          "base_uri": "https://localhost:8080/"
        },
        "id": "cXJp2uByMItm",
        "outputId": "f012ba24-1d6c-4e89-f814-8ca282c4ceaf"
      },
      "outputs": [
        {
          "output_type": "execute_result",
          "data": {
            "text/plain": [
              "array([[ 1.05263158, -0.2037104 , -0.12079228],\n",
              "       [-0.2037104 ,  1.05263158,  0.3125801 ],\n",
              "       [-0.12079228,  0.3125801 ,  1.05263158]])"
            ]
          },
          "metadata": {},
          "execution_count": 11
        }
      ],
      "source": [
        "cov_matrix"
      ]
    },
    {
      "cell_type": "markdown",
      "metadata": {
        "id": "9PoRIT8MMItm"
      },
      "source": [
        "### 1-3) 이제 고유값과 고유벡터를 구합니다\n",
        "\n",
        "실습코드를 참고해주세요"
      ]
    },
    {
      "cell_type": "code",
      "execution_count": null,
      "metadata": {
        "id": "yw0kfgvWMItn"
      },
      "outputs": [],
      "source": [
        "import numpy.linalg as lin\n",
        "\n",
        "eigenvalues = np.linalg.eig(cov_matrix)[0]\n",
        "eigenvectors = np.linalg.eig(cov_matrix)[1]"
      ]
    },
    {
      "cell_type": "code",
      "execution_count": null,
      "metadata": {
        "colab": {
          "base_uri": "https://localhost:8080/"
        },
        "id": "sBon_gpVMItn",
        "outputId": "9445544a-db98-41f7-ac40-27f25520ad95"
      },
      "outputs": [
        {
          "output_type": "stream",
          "name": "stdout",
          "text": [
            "[1.48756162 0.94435407 0.72597904]\n",
            "[[ 0.47018528 -0.85137353 -0.23257022]\n",
            " [-0.64960236 -0.15545725 -0.74421087]\n",
            " [-0.59744671 -0.50099516  0.62614797]]\n"
          ]
        }
      ],
      "source": [
        "print(eigenvalues)\n",
        "print(eigenvectors)"
      ]
    },
    {
      "cell_type": "code",
      "execution_count": null,
      "metadata": {
        "id": "1jvy2fDdMItn"
      },
      "outputs": [],
      "source": [
        "mat = np.zeros((3,3))"
      ]
    },
    {
      "cell_type": "code",
      "execution_count": null,
      "metadata": {
        "colab": {
          "base_uri": "https://localhost:8080/"
        },
        "id": "0WSePAozMItn",
        "outputId": "39b452ca-68f3-489d-d0a4-455649d914e5"
      },
      "outputs": [
        {
          "output_type": "execute_result",
          "data": {
            "text/plain": [
              "array([[0., 0., 0.],\n",
              "       [0., 0., 0.],\n",
              "       [0., 0., 0.]])"
            ]
          },
          "metadata": {},
          "execution_count": 15
        }
      ],
      "source": [
        "mat"
      ]
    },
    {
      "cell_type": "code",
      "execution_count": null,
      "metadata": {
        "id": "-JXYMRk5MItn"
      },
      "outputs": [],
      "source": [
        "mat[0][0] = eigenvalues[0]\n",
        "mat[1][1] = eigenvalues[1]\n",
        "mat[2][2] = eigenvalues[2]"
      ]
    },
    {
      "cell_type": "code",
      "execution_count": null,
      "metadata": {
        "colab": {
          "base_uri": "https://localhost:8080/"
        },
        "id": "HcdstIeJMIto",
        "outputId": "400f10a9-061a-4cc6-c901-a9654f269e75"
      },
      "outputs": [
        {
          "output_type": "execute_result",
          "data": {
            "text/plain": [
              "array([[1.48756162, 0.        , 0.        ],\n",
              "       [0.        , 0.94435407, 0.        ],\n",
              "       [0.        , 0.        , 0.72597904]])"
            ]
          },
          "metadata": {},
          "execution_count": 17
        }
      ],
      "source": [
        "mat"
      ]
    },
    {
      "cell_type": "markdown",
      "metadata": {
        "id": "QhKBLn7JMIto"
      },
      "source": [
        "### 1-4) 고유값 분해: 고유값 분해의 곱으로 원래 공분산 행렬을 구해봅니다\n",
        "\n",
        "https://docs.scipy.org/doc/numpy/reference/generated/numpy.dot.html 를 참고해주세요"
      ]
    },
    {
      "cell_type": "code",
      "execution_count": null,
      "metadata": {
        "scrolled": false,
        "colab": {
          "base_uri": "https://localhost:8080/"
        },
        "id": "vwi3dm53MIto",
        "outputId": "478f858b-6d70-4960-fe8a-83221e2ad9b7"
      },
      "outputs": [
        {
          "output_type": "execute_result",
          "data": {
            "text/plain": [
              "array([[ 1.05263158, -0.2037104 , -0.12079228],\n",
              "       [-0.2037104 ,  1.05263158,  0.3125801 ],\n",
              "       [-0.12079228,  0.3125801 ,  1.05263158]])"
            ]
          },
          "metadata": {},
          "execution_count": 18
        }
      ],
      "source": [
        "conv2 = np.matmul(np.matmul(eigenvectors, mat), np.linalg.inv(eigenvectors))\n",
        "conv2\n",
        "#1-2에서 구했던 공분산과 동일한가요? 네!!"
      ]
    },
    {
      "cell_type": "markdown",
      "metadata": {
        "id": "NUHXtUfLMIto"
      },
      "source": [
        "### 1-5) 마지막으로 고유 벡터 축으로 값을 변환합니다\n",
        "\n",
        "\n",
        "https://docs.scipy.org/doc/numpy/reference/generated/numpy.concatenate.html"
      ]
    },
    {
      "cell_type": "code",
      "execution_count": null,
      "metadata": {
        "id": "OtYTiSCZMIto"
      },
      "outputs": [],
      "source": [
        "def new_coordinates(X,eigenvectors):\n",
        "    for i in range(eigenvectors.shape[0]):\n",
        "        if i == 0:\n",
        "            new = [X.dot(eigenvectors.T[i])] # .reshape(1,-1) 과 같은 효과를 주기 위해서 배열에 넣은 것\n",
        "        else: \n",
        "            new = np.concatenate((new, np.dot(X, eigenvectors.T[i]).reshape(1,-1)),axis=0) # reshape를 사용해 보았다.\n",
        "    return new.T\n",
        "\n",
        "# 모든 고유 벡터 축으로 데이터를 projection한 값입니다"
      ]
    },
    {
      "cell_type": "code",
      "execution_count": null,
      "metadata": {
        "colab": {
          "base_uri": "https://localhost:8080/"
        },
        "id": "MI_qvM0FMIto",
        "outputId": "db532954-d2cf-477f-b9f3-84c70ecf3293"
      },
      "outputs": [
        {
          "output_type": "execute_result",
          "data": {
            "text/plain": [
              "array([[ 0.31019368, -1.08215716, -0.07983642],\n",
              "       [ 1.28092404, -0.43132556,  0.13533091],\n",
              "       [ 1.38766381,  0.78428014, -0.12911446],\n",
              "       [ 0.95087515, -1.15737142,  1.6495519 ],\n",
              "       [ 1.84222365,  0.88189889,  0.11493111],\n",
              "       [-1.12563709, -0.52680338,  0.06564012],\n",
              "       [-2.71174416,  0.63290138,  0.71195473],\n",
              "       [-0.03100441, -0.20059783, -0.50339479],\n",
              "       [ 2.29618509,  0.07661447,  0.01087174],\n",
              "       [-0.61585248, -0.205764  ,  1.82651199],\n",
              "       [-1.73320252,  1.29971699,  0.09045178],\n",
              "       [-0.82366049, -0.57164535, -0.27123176],\n",
              "       [ 0.75619512,  0.73995175, -0.76710616],\n",
              "       [-0.42344386,  0.26555394, -1.41533681],\n",
              "       [-0.39581307, -1.64646874,  0.24104031],\n",
              "       [-0.88581498,  0.15195119, -0.82271209],\n",
              "       [ 0.24587691,  0.39139878, -1.15801831],\n",
              "       [ 0.14741103, -1.22874561, -0.03110396],\n",
              "       [-0.7161265 , -0.56781471, -0.86180345],\n",
              "       [ 0.24475107,  2.39442622,  1.19337361]])"
            ]
          },
          "metadata": {},
          "execution_count": 20
        }
      ],
      "source": [
        "new_coordinates(X_std,eigenvectors)\n",
        "\n",
        "# 새로운 축으로 변환되어 나타난 데이터들입니다"
      ]
    },
    {
      "cell_type": "markdown",
      "metadata": {
        "id": "3mQFDrZ3MIto"
      },
      "source": [
        "## 2) PCA를 구현해보기\n",
        "\n",
        "위의 과정을 하나의 함수로 표현해주세요!\n",
        "\n",
        "1)에서 진행한 과정을 그대로 가져오면 됩니다..! , \n",
        "\n",
        "위에서 만든 함수(new_coordinate)도 가져오셔서 사용해도 좋아요!\n",
        "\n",
        "+하지만 이 함수는 number이라는 인자를 받아서 pca에서 주성분 개수를 고려하도록 합니다!\n",
        "\n",
        "고유값이 큰 축 순서로 정렬하는 과정 + 주성분 개수 number을 고려해야한다는 점을 유의해서 함수를 정의해주세요\n"
      ]
    },
    {
      "cell_type": "code",
      "execution_count": null,
      "metadata": {
        "id": "baaaiZlCMItp"
      },
      "outputs": [],
      "source": [
        "from sklearn.preprocessing import StandardScaler\n",
        "\n",
        "def MYPCA(X,number):\n",
        "    # 스케일링\n",
        "    scaler = StandardScaler()\n",
        "    X_std = scaler.fit_transform(X)\n",
        "    features = X_std.T\n",
        "    \n",
        "    # 공분산 행렬 계산\n",
        "    X_cov = np.cov(features)\n",
        "    \n",
        "    # 고유값과 고유벡터 계산\n",
        "    eigenvalues, eigenvectors =  np.linalg.eig(X_cov)\n",
        "    \n",
        "    # 고유값 정렬 및 고유값 크기에 따라 고유벡터도 정렬\n",
        "    idx = eigenvalues.argsort()[::-1]\n",
        "    eigenvectors = eigenvectors[idx] \n",
        "    \n",
        "    # number만큼 주성분 축의 개수 설정\n",
        "    number = min(number, eigenvectors.shape[0]) # number 가 eigenvectors의 차원보다 큰 경우, 고유벡터의 차원을 사용한다.\n",
        "    \n",
        "    for i in range(number):\n",
        "        if i == 0:\n",
        "            new = [X_std.dot(eigenvectors.T[i])]\n",
        "        else: \n",
        "            new = np.concatenate((new, np.dot(X_std, eigenvectors.T[i]).reshape(1,-1)),axis=0)\n",
        "    return new.T"
      ]
    },
    {
      "cell_type": "code",
      "execution_count": null,
      "metadata": {
        "scrolled": true,
        "colab": {
          "base_uri": "https://localhost:8080/"
        },
        "id": "nN0F9GlHMItp",
        "outputId": "7afe46de-ee10-41e7-db1a-9c688086d103"
      },
      "outputs": [
        {
          "output_type": "execute_result",
          "data": {
            "text/plain": [
              "array([[ 0.31019368, -1.08215716, -0.07983642],\n",
              "       [ 1.28092404, -0.43132556,  0.13533091],\n",
              "       [ 1.38766381,  0.78428014, -0.12911446],\n",
              "       [ 0.95087515, -1.15737142,  1.6495519 ],\n",
              "       [ 1.84222365,  0.88189889,  0.11493111],\n",
              "       [-1.12563709, -0.52680338,  0.06564012],\n",
              "       [-2.71174416,  0.63290138,  0.71195473],\n",
              "       [-0.03100441, -0.20059783, -0.50339479],\n",
              "       [ 2.29618509,  0.07661447,  0.01087174],\n",
              "       [-0.61585248, -0.205764  ,  1.82651199],\n",
              "       [-1.73320252,  1.29971699,  0.09045178],\n",
              "       [-0.82366049, -0.57164535, -0.27123176],\n",
              "       [ 0.75619512,  0.73995175, -0.76710616],\n",
              "       [-0.42344386,  0.26555394, -1.41533681],\n",
              "       [-0.39581307, -1.64646874,  0.24104031],\n",
              "       [-0.88581498,  0.15195119, -0.82271209],\n",
              "       [ 0.24587691,  0.39139878, -1.15801831],\n",
              "       [ 0.14741103, -1.22874561, -0.03110396],\n",
              "       [-0.7161265 , -0.56781471, -0.86180345],\n",
              "       [ 0.24475107,  2.39442622,  1.19337361]])"
            ]
          },
          "metadata": {},
          "execution_count": 22
        }
      ],
      "source": [
        "MYPCA(X,3)\n",
        "\n",
        "# 새로운 축으로 잘 변환되어서 나타나나요?\n",
        "# 위에서 했던 PCA랑은 차이가 있을 수 있어요 \n",
        "# 왜냐하면 위에서는 고유값이 큰 축 순서로 정렬을 안했었거든요"
      ]
    },
    {
      "cell_type": "markdown",
      "metadata": {
        "id": "UsB9CGzZMItp"
      },
      "source": [
        "## 3) sklearn의 PCA 패키지와 비교해보기\n",
        "\n",
        "https://scikit-learn.org/stable/modules/generated/sklearn.decomposition.PCA.html 를 참고하시면 도움이 될거에요"
      ]
    },
    {
      "cell_type": "code",
      "execution_count": null,
      "metadata": {
        "id": "4Kzjpg5nMItp"
      },
      "outputs": [],
      "source": [
        "from sklearn.decomposition import PCA\n",
        "pca = PCA(n_components = 3, copy=False)\n",
        "pca_scaled = pca.fit_transform(X_std)"
      ]
    },
    {
      "cell_type": "code",
      "execution_count": null,
      "metadata": {
        "colab": {
          "base_uri": "https://localhost:8080/"
        },
        "id": "fso9wMXSMItp",
        "outputId": "143895de-a32e-43cc-f825-580dabbad64d"
      },
      "outputs": [
        {
          "output_type": "execute_result",
          "data": {
            "text/plain": [
              "array([[-0.31019368, -1.08215716, -0.07983642],\n",
              "       [-1.28092404, -0.43132556,  0.13533091],\n",
              "       [-1.38766381,  0.78428014, -0.12911446],\n",
              "       [-0.95087515, -1.15737142,  1.6495519 ],\n",
              "       [-1.84222365,  0.88189889,  0.11493111],\n",
              "       [ 1.12563709, -0.52680338,  0.06564012],\n",
              "       [ 2.71174416,  0.63290138,  0.71195473],\n",
              "       [ 0.03100441, -0.20059783, -0.50339479],\n",
              "       [-2.29618509,  0.07661447,  0.01087174],\n",
              "       [ 0.61585248, -0.205764  ,  1.82651199],\n",
              "       [ 1.73320252,  1.29971699,  0.09045178],\n",
              "       [ 0.82366049, -0.57164535, -0.27123176],\n",
              "       [-0.75619512,  0.73995175, -0.76710616],\n",
              "       [ 0.42344386,  0.26555394, -1.41533681],\n",
              "       [ 0.39581307, -1.64646874,  0.24104031],\n",
              "       [ 0.88581498,  0.15195119, -0.82271209],\n",
              "       [-0.24587691,  0.39139878, -1.15801831],\n",
              "       [-0.14741103, -1.22874561, -0.03110396],\n",
              "       [ 0.7161265 , -0.56781471, -0.86180345],\n",
              "       [-0.24475107,  2.39442622,  1.19337361]])"
            ]
          },
          "metadata": {},
          "execution_count": 26
        }
      ],
      "source": [
        "pca_scaled"
      ]
    },
    {
      "cell_type": "code",
      "execution_count": null,
      "metadata": {
        "colab": {
          "base_uri": "https://localhost:8080/"
        },
        "id": "ob6ZrQWaMItp",
        "outputId": "0d908155-db56-43df-f2b6-bcc273e88d26"
      },
      "outputs": [
        {
          "output_type": "execute_result",
          "data": {
            "text/plain": [
              "array([[ 0.31019368, -1.08215716, -0.07983642],\n",
              "       [ 1.28092404, -0.43132556,  0.13533091],\n",
              "       [ 1.38766381,  0.78428014, -0.12911446],\n",
              "       [ 0.95087515, -1.15737142,  1.6495519 ],\n",
              "       [ 1.84222365,  0.88189889,  0.11493111],\n",
              "       [-1.12563709, -0.52680338,  0.06564012],\n",
              "       [-2.71174416,  0.63290138,  0.71195473],\n",
              "       [-0.03100441, -0.20059783, -0.50339479],\n",
              "       [ 2.29618509,  0.07661447,  0.01087174],\n",
              "       [-0.61585248, -0.205764  ,  1.82651199],\n",
              "       [-1.73320252,  1.29971699,  0.09045178],\n",
              "       [-0.82366049, -0.57164535, -0.27123176],\n",
              "       [ 0.75619512,  0.73995175, -0.76710616],\n",
              "       [-0.42344386,  0.26555394, -1.41533681],\n",
              "       [-0.39581307, -1.64646874,  0.24104031],\n",
              "       [-0.88581498,  0.15195119, -0.82271209],\n",
              "       [ 0.24587691,  0.39139878, -1.15801831],\n",
              "       [ 0.14741103, -1.22874561, -0.03110396],\n",
              "       [-0.7161265 , -0.56781471, -0.86180345],\n",
              "       [ 0.24475107,  2.39442622,  1.19337361]])"
            ]
          },
          "metadata": {},
          "execution_count": 27
        }
      ],
      "source": [
        "MYPCA(X,3)"
      ]
    },
    {
      "cell_type": "markdown",
      "metadata": {
        "id": "e8pArQCUMItp"
      },
      "source": [
        "## 4) PCA 외 수업에서 다룬 차원축소 기법(FS,GA,LDA,SNE 등) 중 택1하여 밑바닥부터 만들어보기"
      ]
    },
    {
      "cell_type": "code",
      "source": [
        ""
      ],
      "metadata": {
        "id": "nZJhf6o1ab0R"
      },
      "execution_count": null,
      "outputs": []
    }
  ],
  "metadata": {
    "kernelspec": {
      "display_name": "Python 3",
      "language": "python",
      "name": "python3"
    },
    "language_info": {
      "codemirror_mode": {
        "name": "ipython",
        "version": 3
      },
      "file_extension": ".py",
      "mimetype": "text/x-python",
      "name": "python",
      "nbconvert_exporter": "python",
      "pygments_lexer": "ipython3",
      "version": "3.8.8"
    },
    "colab": {
      "name": "week5_dimensionality reduction_assignment1.ipynb",
      "provenance": [],
      "collapsed_sections": [],
      "include_colab_link": true
    }
  },
  "nbformat": 4,
  "nbformat_minor": 0
}