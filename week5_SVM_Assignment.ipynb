{
  "cells": [
    {
      "cell_type": "markdown",
      "metadata": {
        "id": "view-in-github",
        "colab_type": "text"
      },
      "source": [
        "<a href=\"https://colab.research.google.com/github/nayun12/Tobigs_17/blob/main/week5_SVM_Assignment.ipynb\" target=\"_parent\"><img src=\"https://colab.research.google.com/assets/colab-badge.svg\" alt=\"Open In Colab\"/></a>"
      ]
    },
    {
      "cell_type": "markdown",
      "id": "9ad88f3e",
      "metadata": {
        "id": "9ad88f3e"
      },
      "source": [
        "# Multiclass SVM 구현"
      ]
    },
    {
      "cell_type": "code",
      "execution_count": 1,
      "id": "1ee53277",
      "metadata": {
        "colab": {
          "base_uri": "https://localhost:8080/"
        },
        "id": "1ee53277",
        "outputId": "6d5d1312-1b90-40eb-e4b4-c3d05d9ebd79"
      },
      "outputs": [
        {
          "output_type": "stream",
          "name": "stdout",
          "text": [
            "0         setosa\n",
            "1         setosa\n",
            "2         setosa\n",
            "3         setosa\n",
            "4         setosa\n",
            "         ...    \n",
            "145    virginica\n",
            "146    virginica\n",
            "147    virginica\n",
            "148    virginica\n",
            "149    virginica\n",
            "Name: species, Length: 150, dtype: object\n"
          ]
        }
      ],
      "source": [
        "import numpy as np\n",
        "import pandas as pd\n",
        "import matplotlib.pyplot as plt\n",
        "import seaborn as sns\n",
        "from sklearn.svm import SVC\n",
        "from sklearn.model_selection import train_test_split\n",
        "from sklearn.pipeline import Pipeline\n",
        "from sklearn.preprocessing import StandardScaler\n",
        "from sklearn.metrics import accuracy_score\n",
        "\n",
        "#IRIS 데이터 로드\n",
        "iris =  sns.load_dataset('iris') \n",
        "X= iris.iloc[:,:4] #학습할데이터\n",
        "y = iris.iloc[:,-1] #타겟\n",
        "print(y)"
      ]
    },
    {
      "cell_type": "code",
      "execution_count": 2,
      "id": "57c67bc8",
      "metadata": {
        "id": "57c67bc8"
      },
      "outputs": [],
      "source": [
        "X_train, X_test, y_train, y_test = train_test_split(X, y, test_size=0.2, random_state=48)"
      ]
    },
    {
      "cell_type": "code",
      "execution_count": 3,
      "id": "88a4203d",
      "metadata": {
        "id": "88a4203d"
      },
      "outputs": [],
      "source": [
        "def standardization(train, test):\n",
        "    scaler = StandardScaler()\n",
        "    train = scaler.fit_transform(train)\n",
        "    test = scaler.transform(test)\n",
        "    return train, test\n",
        "\n",
        "X_train, X_test = standardization(X_train, X_test)"
      ]
    },
    {
      "cell_type": "code",
      "execution_count": 4,
      "id": "403590f5",
      "metadata": {
        "colab": {
          "base_uri": "https://localhost:8080/"
        },
        "id": "403590f5",
        "outputId": "3ddb18ba-70bd-41e7-af9b-579d1cf96bcb"
      },
      "outputs": [
        {
          "output_type": "execute_result",
          "data": {
            "text/plain": [
              "array([[ 0.78522493,  0.32015325,  0.77221097,  1.04726529],\n",
              "       [-0.26563371, -1.29989934,  0.0982814 , -0.11996537],\n",
              "       [ 0.43493872,  0.78302542,  0.94069336,  1.43634218],\n",
              "       [-0.84944407,  0.78302542, -1.24957775, -1.28719604],\n",
              "       [-0.38239578, -1.7627715 ,  0.15444219,  0.13941922],\n",
              "       [ 0.55170079, -0.374155  ,  1.05301496,  0.7878807 ],\n",
              "       [ 0.31817664, -0.14271892,  0.65988937,  0.7878807 ],\n",
              "       [ 0.20141457, -0.374155  ,  0.43524618,  0.39880381],\n",
              "       [-1.66677857, -0.14271892, -1.36189934, -1.28719604],\n",
              "       [-0.14887164, -0.60559109,  0.21060299,  0.13941922],\n",
              "       [-0.14887164, -1.06846325, -0.12636179, -0.24965767],\n",
              "       [ 0.31817664, -0.60559109,  0.15444219,  0.13941922],\n",
              "       [ 0.66846286, -0.83702717,  0.88453256,  0.91757299],\n",
              "       [ 0.0846525 , -0.14271892,  0.77221097,  0.7878807 ],\n",
              "       [-0.49915786, -0.14271892,  0.43524618,  0.39880381],\n",
              "       [-0.26563371, -0.60559109,  0.65988937,  1.04726529],\n",
              "       [ 2.18636979,  1.70876975,  1.67078373,  1.30664988],\n",
              "       [-0.49915786,  1.94020584, -1.13725615, -1.02781144],\n",
              "       [-0.96620614,  1.0144615 , -1.36189934, -1.15750374],\n",
              "       [ 1.60255943,  0.32015325,  1.27765815,  0.7878807 ],\n",
              "       [-0.84944407,  1.70876975, -1.02493456, -1.02781144],\n",
              "       [ 0.901987  , -0.14271892,  0.37908538,  0.26911151],\n",
              "       [-1.19973028,  0.78302542, -1.02493456, -1.28719604],\n",
              "       [-0.61591993,  1.47733367, -1.24957775, -1.28719604],\n",
              "       [-0.49915786,  1.47733367, -1.24957775, -1.28719604],\n",
              "       [-0.03210957, -0.83702717,  0.77221097,  0.91757299],\n",
              "       [-1.31649236,  0.32015325, -1.19341695, -1.28719604],\n",
              "       [ 1.25227322,  0.08871717,  0.94069336,  1.17695758],\n",
              "       [-1.08296821,  0.08871717, -1.24957775, -1.41688833],\n",
              "       [-1.08296821, -1.29989934,  0.43524618,  0.6581884 ],\n",
              "       [ 0.43493872, -0.374155  ,  0.32292459,  0.13941922],\n",
              "       [ 1.60255943,  1.24589758,  1.33381894,  1.69572677],\n",
              "       [ 0.31817664, -0.374155  ,  0.54756778,  0.26911151],\n",
              "       [ 1.83608357, -0.60559109,  1.33381894,  0.91757299],\n",
              "       [-0.03210957, -0.83702717,  0.0982814 ,  0.00972692],\n",
              "       [ 0.20141457, -1.99420759,  0.71605017,  0.39880381],\n",
              "       [ 1.01874907,  0.08871717,  1.05301496,  1.56603447],\n",
              "       [-0.84944407,  1.0144615 , -1.30573855, -1.15750374],\n",
              "       [-0.14887164, -0.14271892,  0.26676379,  0.00972692],\n",
              "       [-0.38239578, -1.53133542,  0.0421206 , -0.11996537],\n",
              "       [ 0.55170079, -1.29989934,  0.71605017,  0.91757299],\n",
              "       [ 1.48579736, -0.14271892,  1.22149735,  1.17695758],\n",
              "       [-0.38239578, -1.06846325,  0.37908538,  0.00972692],\n",
              "       [-0.96620614, -1.7627715 , -0.23868339, -0.24965767],\n",
              "       [ 1.25227322,  0.08871717,  0.77221097,  1.43634218],\n",
              "       [ 0.66846286, -0.60559109,  1.05301496,  1.17695758],\n",
              "       [ 0.43493872, -1.99420759,  0.43524618,  0.39880381],\n",
              "       [-0.14887164, -0.60559109,  0.43524618,  0.13941922],\n",
              "       [-0.732682  , -0.83702717,  0.0982814 ,  0.26911151],\n",
              "       [ 2.06960772, -0.14271892,  1.61462293,  1.17695758],\n",
              "       [ 1.13551115, -0.60559109,  0.60372857,  0.26911151],\n",
              "       [-0.84944407, -1.29989934, -0.40716578, -0.11996537],\n",
              "       [-0.14887164, -1.29989934,  0.71605017,  1.04726529],\n",
              "       [ 0.66846286, -0.374155  ,  0.32292459,  0.13941922],\n",
              "       [ 1.01874907,  0.08871717,  0.37908538,  0.26911151],\n",
              "       [-0.26563371, -0.83702717,  0.26676379,  0.13941922],\n",
              "       [ 1.25227322,  0.08871717,  0.65988937,  0.39880381],\n",
              "       [-0.84944407,  0.55158933, -1.13725615, -0.89811915],\n",
              "       [-1.08296821, -0.14271892, -1.30573855, -1.28719604],\n",
              "       [ 0.20141457, -0.83702717,  0.77221097,  0.52849611],\n",
              "       [-1.08296821, -1.53133542, -0.23868339, -0.24965767],\n",
              "       [-0.03210957,  2.17164192, -1.41806014, -1.28719604],\n",
              "       [-0.96620614,  1.0144615 , -1.19341695, -0.76842685],\n",
              "       [ 0.55170079, -0.83702717,  0.65988937,  0.7878807 ],\n",
              "       [ 1.7193215 , -0.374155  ,  1.44614054,  0.7878807 ],\n",
              "       [-0.732682  ,  2.403078  , -1.24957775, -1.41688833],\n",
              "       [-0.14887164,  3.09738625, -1.24957775, -1.02781144],\n",
              "       [ 1.13551115, -0.14271892,  0.99685416,  1.17695758],\n",
              "       [-1.43325443,  0.08871717, -1.24957775, -1.28719604],\n",
              "       [-0.03210957, -0.83702717,  0.21060299, -0.24965767],\n",
              "       [ 1.01874907, -0.14271892,  0.82837177,  1.43634218],\n",
              "       [ 1.36903529,  0.32015325,  0.54756778,  0.26911151],\n",
              "       [-0.96620614,  0.32015325, -1.41806014, -1.28719604],\n",
              "       [-0.96620614,  0.78302542, -1.24957775, -1.28719604],\n",
              "       [ 0.55170079,  0.55158933,  1.27765815,  1.69572677],\n",
              "       [ 2.18636979, -0.60559109,  1.67078373,  1.04726529],\n",
              "       [ 0.0846525 , -0.14271892,  0.26676379,  0.39880381],\n",
              "       [-1.31649236,  0.32015325, -1.36189934, -1.28719604],\n",
              "       [ 0.66846286,  0.32015325,  0.88453256,  1.43634218],\n",
              "       [-0.96620614,  0.78302542, -1.19341695, -1.02781144],\n",
              "       [ 0.20141457,  0.78302542,  0.43524618,  0.52849611],\n",
              "       [-1.19973028, -0.14271892, -1.30573855, -1.41688833],\n",
              "       [ 1.01874907,  0.55158933,  1.10917575,  1.17695758],\n",
              "       [ 0.78522493, -0.60559109,  0.49140698,  0.39880381],\n",
              "       [-1.43325443,  1.24589758, -1.53038174, -1.28719604],\n",
              "       [-0.03210957, -0.60559109,  0.77221097,  1.56603447],\n",
              "       [-1.78354064, -0.14271892, -1.47422094, -1.41688833],\n",
              "       [ 1.01874907, -1.29989934,  1.16533655,  0.7878807 ],\n",
              "       [-1.08296821,  1.24589758, -1.30573855, -1.41688833],\n",
              "       [-0.49915786,  1.94020584, -1.36189934, -1.02781144],\n",
              "       [-1.43325443,  0.32015325, -1.30573855, -1.28719604],\n",
              "       [-0.03210957, -0.83702717,  0.77221097,  0.91757299],\n",
              "       [ 0.55170079, -0.60559109,  0.77221097,  0.39880381],\n",
              "       [-0.96620614,  0.55158933, -1.30573855, -1.28719604],\n",
              "       [ 2.41989393,  1.70876975,  1.50230134,  1.04726529],\n",
              "       [-1.66677857,  0.32015325, -1.36189934, -1.28719604],\n",
              "       [-1.19973028, -0.14271892, -1.30573855, -1.15750374],\n",
              "       [ 1.01874907,  0.55158933,  1.10917575,  1.69572677],\n",
              "       [-0.96620614, -2.45707976, -0.12636179, -0.24965767],\n",
              "       [-0.732682  ,  1.0144615 , -1.24957775, -1.28719604],\n",
              "       [ 2.18636979, -1.06846325,  1.78310533,  1.43634218],\n",
              "       [ 1.13551115,  0.32015325,  1.22149735,  1.43634218],\n",
              "       [-0.96620614, -0.14271892, -1.19341695, -1.28719604],\n",
              "       [-0.84944407,  1.47733367, -1.24957775, -1.02781144],\n",
              "       [ 2.18636979, -0.14271892,  1.33381894,  1.43634218],\n",
              "       [-0.14887164,  1.70876975, -1.13725615, -1.15750374],\n",
              "       [-0.26563371, -0.14271892,  0.43524618,  0.39880381],\n",
              "       [-1.19973028,  0.08871717, -1.19341695, -1.28719604],\n",
              "       [ 0.78522493, -0.14271892,  1.16533655,  1.30664988],\n",
              "       [ 0.901987  , -0.374155  ,  0.49140698,  0.13941922],\n",
              "       [-0.732682  ,  0.78302542, -1.30573855, -1.28719604],\n",
              "       [-0.84944407,  1.70876975, -1.19341695, -1.28719604],\n",
              "       [-1.43325443,  0.78302542, -1.30573855, -1.15750374],\n",
              "       [-0.03210957, -1.06846325,  0.15444219,  0.00972692],\n",
              "       [-1.08296821,  0.08871717, -1.24957775, -1.28719604],\n",
              "       [-0.26563371, -0.374155  , -0.070201  ,  0.13941922],\n",
              "       [ 0.31817664, -0.14271892,  0.49140698,  0.26911151],\n",
              "       [-0.38239578, -1.53133542, -0.0140402 , -0.24965767],\n",
              "       [ 0.66846286,  0.32015325,  0.43524618,  0.39880381],\n",
              "       [-0.84944407,  1.0144615 , -1.30573855, -1.28719604]])"
            ]
          },
          "metadata": {},
          "execution_count": 4
        }
      ],
      "source": [
        "X_train"
      ]
    },
    {
      "cell_type": "code",
      "execution_count": 5,
      "id": "9861d8a6",
      "metadata": {
        "colab": {
          "base_uri": "https://localhost:8080/"
        },
        "id": "9861d8a6",
        "outputId": "6ed775bc-a255-47bd-826e-061fa5cacc11"
      },
      "outputs": [
        {
          "output_type": "execute_result",
          "data": {
            "text/plain": [
              "array([[-0.14887164, -0.374155  ,  0.26676379,  0.13941922],\n",
              "       [ 0.31817664, -0.60559109,  0.54756778,  0.00972692],\n",
              "       [ 0.31817664, -1.06846325,  1.05301496,  0.26911151],\n",
              "       [-1.5500165 , -1.7627715 , -1.36189934, -1.15750374],\n",
              "       [ 0.0846525 ,  0.32015325,  0.60372857,  0.7878807 ],\n",
              "       [ 0.78522493, -0.14271892,  0.99685416,  0.7878807 ],\n",
              "       [-0.84944407,  1.70876975, -1.24957775, -1.15750374],\n",
              "       [ 0.20141457, -0.14271892,  0.60372857,  0.7878807 ],\n",
              "       [-0.38239578,  2.63451409, -1.30573855, -1.28719604],\n",
              "       [-0.38239578, -1.29989934,  0.15444219,  0.13941922],\n",
              "       [ 0.66846286,  0.08871717,  0.99685416,  0.7878807 ],\n",
              "       [-0.38239578,  1.0144615 , -1.36189934, -1.28719604],\n",
              "       [-0.49915786,  0.78302542, -1.13725615, -1.28719604],\n",
              "       [ 0.43493872, -0.60559109,  0.60372857,  0.7878807 ],\n",
              "       [ 0.55170079, -1.7627715 ,  0.37908538,  0.13941922],\n",
              "       [ 0.55170079,  0.55158933,  0.54756778,  0.52849611],\n",
              "       [-1.19973028,  0.78302542, -1.19341695, -1.28719604],\n",
              "       [ 0.20141457, -1.99420759,  0.15444219, -0.24965767],\n",
              "       [ 0.55170079, -1.29989934,  0.65988937,  0.39880381],\n",
              "       [ 1.25227322,  0.32015325,  1.10917575,  1.43634218],\n",
              "       [-1.66677857, -0.374155  , -1.30573855, -1.28719604],\n",
              "       [ 0.78522493, -0.14271892,  0.82837177,  1.04726529],\n",
              "       [ 1.01874907, -0.14271892,  0.71605017,  0.6581884 ],\n",
              "       [ 1.01874907,  0.08871717,  0.54756778,  0.39880381],\n",
              "       [ 1.60255943, -0.14271892,  1.16533655,  0.52849611],\n",
              "       [-0.96620614,  1.24589758, -1.30573855, -1.28719604],\n",
              "       [-0.49915786,  0.78302542, -1.24957775, -1.02781144],\n",
              "       [ 0.55170079,  0.78302542,  1.05301496,  1.56603447],\n",
              "       [ 0.66846286, -0.60559109,  1.05301496,  1.30664988],\n",
              "       [-0.26563371, -0.14271892,  0.21060299,  0.13941922]])"
            ]
          },
          "metadata": {},
          "execution_count": 5
        }
      ],
      "source": [
        "X_test"
      ]
    },
    {
      "cell_type": "code",
      "execution_count": 6,
      "id": "11719030",
      "metadata": {
        "id": "11719030"
      },
      "outputs": [],
      "source": [
        "class SVM_OVR:\n",
        "    def __init__(self, num_classes, kernel, C, gamma):\n",
        "        self.num_classes = num_classes\n",
        "        self.clfs = [SVC(kernel = kernel, C = C, gamma = gamma) for _ in range(num_classes)]\n",
        "        self.classes = None\n",
        "        \n",
        "    def fit(self, X_train, y_train):\n",
        "        y_train = pd.get_dummies(y_train)\n",
        "        for i in range(self.num_classes):\n",
        "            self.clfs[i].fit(X_train,y_train.iloc[:,i]) \n",
        "            # 각 클래스별로 인지 아닌지를 판단하는 분류기를 학습시킵니다.\n",
        "        self.classes = y_train.columns\n",
        "    \n",
        "    def predict(self, X_test):\n",
        "        pred_df = pd.DataFrame([svm.predict(X_test) for svm in self.clfs]).T # 각 클래스 별 예측값\n",
        "        decisions = np.array([svm.decision_function(X_test) for svm in self.clfs]).T # 각 클래스 별 거리\n",
        "        \n",
        "        final_pred = []\n",
        "        for i in range(len(pred_df)):\n",
        "            if sum(pred_df.iloc[i]) == 1:\n",
        "                label = pred_df.iloc[i][pred_df.iloc[i] == 1].index[0]\n",
        "                final_pred.append(self.classes[label])            \n",
        "            else:\n",
        "                label = np.argmax(decisions[i])\n",
        "                final_pred.append(self.classes[label])\n",
        "        \n",
        "        return final_pred"
      ]
    },
    {
      "cell_type": "code",
      "source": [
        "clf = SVM_OVR(num_classes = 3, kernel = 'rbf', C = 5, gamma = 5)\n",
        "clf.fit(X_train, y_train)\n",
        "pred = clf.predict(X_test)"
      ],
      "metadata": {
        "id": "exBjpRP9gUQI"
      },
      "id": "exBjpRP9gUQI",
      "execution_count": 7,
      "outputs": []
    },
    {
      "cell_type": "code",
      "source": [
        "for gt, pr in zip(y_test, pred):\n",
        "    print('%s%20s'%(gt, pr))"
      ],
      "metadata": {
        "colab": {
          "base_uri": "https://localhost:8080/"
        },
        "id": "E6-bw6sxgVzC",
        "outputId": "03656b4f-0af6-4c98-c112-f1e6f5ffe7a4"
      },
      "id": "E6-bw6sxgVzC",
      "execution_count": 8,
      "outputs": [
        {
          "output_type": "stream",
          "name": "stdout",
          "text": [
            "versicolor          versicolor\n",
            "versicolor          versicolor\n",
            "virginica          versicolor\n",
            "setosa           virginica\n",
            "versicolor           virginica\n",
            "virginica           virginica\n",
            "setosa              setosa\n",
            "virginica           virginica\n",
            "setosa              setosa\n",
            "versicolor          versicolor\n",
            "virginica           virginica\n",
            "setosa              setosa\n",
            "setosa              setosa\n",
            "virginica           virginica\n",
            "versicolor          versicolor\n",
            "versicolor          versicolor\n",
            "setosa              setosa\n",
            "versicolor          versicolor\n",
            "versicolor           virginica\n",
            "virginica           virginica\n",
            "setosa              setosa\n",
            "virginica           virginica\n",
            "versicolor          versicolor\n",
            "versicolor          versicolor\n",
            "virginica           virginica\n",
            "setosa              setosa\n",
            "setosa              setosa\n",
            "virginica           virginica\n",
            "virginica           virginica\n",
            "versicolor          versicolor\n"
          ]
        }
      ]
    },
    {
      "cell_type": "code",
      "source": [
        "accuracy_score(y_test, pred)"
      ],
      "metadata": {
        "colab": {
          "base_uri": "https://localhost:8080/"
        },
        "id": "aHRYYuIWgWpA",
        "outputId": "d1a6e660-3068-4d73-917f-80751c26ff23"
      },
      "id": "aHRYYuIWgWpA",
      "execution_count": 9,
      "outputs": [
        {
          "output_type": "execute_result",
          "data": {
            "text/plain": [
              "0.8666666666666667"
            ]
          },
          "metadata": {},
          "execution_count": 9
        }
      ]
    },
    {
      "cell_type": "code",
      "source": [
        "from itertools import combinations"
      ],
      "metadata": {
        "id": "iy61k_0qgYHv"
      },
      "id": "iy61k_0qgYHv",
      "execution_count": 10,
      "outputs": []
    },
    {
      "cell_type": "code",
      "source": [
        "class SVM_OVO:\n",
        "    def __init__(self, num_classes, kernel, C, gamma):\n",
        "        self.num_classes = num_classes\n",
        "        self.clfs = [{'class' : None,'clf' : SVC(kernel = kernel, C = C, gamma = gamma)} for _ in range(int(num_classes * (num_classes-1) / 2))]\n",
        "        self.classes = None\n",
        "        self.combi = []\n",
        "        \n",
        "    def fit(self, X_train, y_train):\n",
        "        self.classes = y_train.unique()\n",
        "        i = 0\n",
        "        for c in combinations(self.classes, 2):\n",
        "            idx = (y_train == c[0]) | (y_train == c[1])\n",
        "            self.clfs[i]['clf'].fit(X_train[idx], y_train[idx])\n",
        "            self.clfs[i]['class'] = c\n",
        "            self.combi.append(c)\n",
        "            i += 1\n",
        "            \n",
        "    def predict(self, X_test):\n",
        "        preds_df = pd.DataFrame([svm['clf'].predict(X_test) for svm in self.clfs]).T # 각 조합 별 예측\n",
        "        decisions = pd.DataFrame([svm['clf'].decision_function(X_test) for svm in self.clfs]).T # 각 클래스 별 거리\n",
        "        decisions.columns = self.combi\n",
        "        \n",
        "        final_pred = []\n",
        "        for i in range(len(preds_df)):\n",
        "            if preds_df.iloc[i].value_counts().iloc[0] > preds_df.iloc[i].value_counts().iloc[1]:\n",
        "                label = (preds_df.iloc[i].value_counts() / len(preds_df.iloc[i])).index[0]\n",
        "                final_pred.append(label)\n",
        "            else:\n",
        "                decision_for_row = {key : 0 for key in classes}\n",
        "                for c, d in zip(decisions.iloc[i].index, decisions.iloc[i]):\n",
        "                    if d > 0:\n",
        "                        decision_for_row[c[0]] += d\n",
        "                    else:\n",
        "                        decision_for_row[c[1]] -= d\n",
        "                label = sorted(decision_for_row.items(), key = lambda x : x[1], reverse = True)[0][0]\n",
        "                final_pred.append(label)\n",
        "        return final_pred"
      ],
      "metadata": {
        "id": "Wwz9qGHUggMg"
      },
      "id": "Wwz9qGHUggMg",
      "execution_count": 11,
      "outputs": []
    },
    {
      "cell_type": "code",
      "source": [
        "clf = SVM_OVO(num_classes = 3, kernel = 'rbf', C = 5, gamma = 5)\n",
        "clf.fit(X_train, y_train)\n",
        "pred = clf.predict(X_test)"
      ],
      "metadata": {
        "id": "3747RAm6goEx"
      },
      "id": "3747RAm6goEx",
      "execution_count": 12,
      "outputs": []
    },
    {
      "cell_type": "code",
      "source": [
        "for gt, pr in zip(y_test, pred):\n",
        "    print('%s%20s'%(gt, pr))"
      ],
      "metadata": {
        "colab": {
          "base_uri": "https://localhost:8080/"
        },
        "id": "SxF8WhU7gpsT",
        "outputId": "9e91a42b-d5c6-4890-a1ae-22aa08388f23"
      },
      "id": "SxF8WhU7gpsT",
      "execution_count": 13,
      "outputs": [
        {
          "output_type": "stream",
          "name": "stdout",
          "text": [
            "versicolor          versicolor\n",
            "versicolor          versicolor\n",
            "virginica          versicolor\n",
            "setosa           virginica\n",
            "versicolor           virginica\n",
            "virginica           virginica\n",
            "setosa              setosa\n",
            "virginica           virginica\n",
            "setosa              setosa\n",
            "versicolor          versicolor\n",
            "virginica           virginica\n",
            "setosa              setosa\n",
            "setosa              setosa\n",
            "virginica           virginica\n",
            "versicolor          versicolor\n",
            "versicolor          versicolor\n",
            "setosa              setosa\n",
            "versicolor          versicolor\n",
            "versicolor           virginica\n",
            "virginica           virginica\n",
            "setosa              setosa\n",
            "virginica           virginica\n",
            "versicolor          versicolor\n",
            "versicolor          versicolor\n",
            "virginica           virginica\n",
            "setosa              setosa\n",
            "setosa              setosa\n",
            "virginica           virginica\n",
            "virginica           virginica\n",
            "versicolor          versicolor\n"
          ]
        }
      ]
    },
    {
      "cell_type": "code",
      "source": [
        "accuracy_score(y_test, pred)"
      ],
      "metadata": {
        "colab": {
          "base_uri": "https://localhost:8080/"
        },
        "id": "8bBCbfFUgrUa",
        "outputId": "7fa4f4bd-4625-4e3a-d9a0-50e1f641d596"
      },
      "id": "8bBCbfFUgrUa",
      "execution_count": 14,
      "outputs": [
        {
          "output_type": "execute_result",
          "data": {
            "text/plain": [
              "0.8666666666666667"
            ]
          },
          "metadata": {},
          "execution_count": 14
        }
      ]
    },
    {
      "cell_type": "code",
      "source": [
        "# 라이브러리 활용\n",
        "svm = SVC(kernel ='rbf', C = 5, gamma = 5)\n",
        "svm.fit(X_train, y_train)\n",
        "y_pred = svm.predict(X_test)\n",
        "\n",
        "accuracy_score(y_test,y_pred)"
      ],
      "metadata": {
        "colab": {
          "base_uri": "https://localhost:8080/"
        },
        "id": "F5sWV2TIg1tp",
        "outputId": "d7bed8d4-18f7-468a-8d85-6a65a7e46bc5"
      },
      "id": "F5sWV2TIg1tp",
      "execution_count": 15,
      "outputs": [
        {
          "output_type": "execute_result",
          "data": {
            "text/plain": [
              "0.8666666666666667"
            ]
          },
          "metadata": {},
          "execution_count": 15
        }
      ]
    }
  ],
  "metadata": {
    "kernelspec": {
      "display_name": "Python 3",
      "language": "python",
      "name": "python3"
    },
    "language_info": {
      "codemirror_mode": {
        "name": "ipython",
        "version": 3
      },
      "file_extension": ".py",
      "mimetype": "text/x-python",
      "name": "python",
      "nbconvert_exporter": "python",
      "pygments_lexer": "ipython3",
      "version": "3.8.8"
    },
    "colab": {
      "name": "Assignment.ipynb",
      "provenance": [],
      "collapsed_sections": [],
      "include_colab_link": true
    }
  },
  "nbformat": 4,
  "nbformat_minor": 5
}